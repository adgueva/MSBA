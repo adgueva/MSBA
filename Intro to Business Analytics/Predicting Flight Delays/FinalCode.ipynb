{
  "nbformat": 4,
  "nbformat_minor": 2,
  "metadata": {
    "colab": {
      "name": "clean_codes.ipynb",
      "provenance": [],
      "toc_visible": true
    },
    "kernelspec": {
      "name": "python3",
      "display_name": "Python 3.8.5 64-bit ('base': conda)"
    },
    "language_info": {
      "name": "python",
      "version": "3.8.5",
      "mimetype": "text/x-python",
      "codemirror_mode": {
        "name": "ipython",
        "version": 3
      },
      "pygments_lexer": "ipython3",
      "nbconvert_exporter": "python",
      "file_extension": ".py"
    },
    "interpreter": {
      "hash": "fbff9bfab3ee0df4124016b4e010029cf2ec5864ce5e3c4aa09796cc364af95f"
    }
  },
  "cells": [
    {
      "cell_type": "code",
      "execution_count": 17,
      "source": [
        "import pandas as pd\r\n",
        "import numpy as np\r\n",
        "\r\n",
        "from sklearn.linear_model import LinearRegression, Lasso, Ridge\r\n",
        "from sklearn.neighbors import KNeighborsRegressor\r\n",
        "from sklearn.tree import DecisionTreeRegressor\r\n",
        "import xgboost as xgb\r\n",
        "\r\n",
        "from sklearn.preprocessing import StandardScaler\r\n",
        "from sklearn.model_selection import cross_val_score, KFold, GridSearchCV\r\n",
        "cv = KFold(n_splits=3, shuffle=True, random_state=42)\r\n",
        "\r\n",
        "from mlxtend.feature_selection import SequentialFeatureSelector as SFS\r\n",
        "\r\n",
        "import matplotlib.pyplot as plt\r\n",
        "import seaborn as sns\r\n",
        "\r\n",
        "import warnings\r\n",
        "warnings.filterwarnings('ignore')"
      ],
      "outputs": [],
      "metadata": {
        "id": "2Yv8u8cVlchy"
      }
    },
    {
      "cell_type": "markdown",
      "source": [
        "# Data Preparation"
      ],
      "metadata": {
        "id": "4mfvLY3ksbuA"
      }
    },
    {
      "cell_type": "code",
      "execution_count": 18,
      "source": [
        "# Importing 2019, 2018, 2017 flight status info datasets\r\n",
        "ONTIME_REPORTING_2019 = pd.DataFrame()\r\n",
        "for i in range(1,13):\r\n",
        "    file_name = \"ONTIME_REPORTING_2019_\" + str(i) + \".csv\"\r\n",
        "    ONTIME_REPORTING_2019 = pd.concat([ONTIME_REPORTING_2019, pd.read_csv(file_name)], ignore_index=True)\r\n",
        "ONTIME_REPORTING_2019 = ONTIME_REPORTING_2019.drop(columns='Unnamed: 9')\r\n",
        "\r\n",
        "ONTIME_REPORTING_2018 = pd.DataFrame()\r\n",
        "for i in range(1,13):\r\n",
        "    file_name = \"ONTIME_REPORTING_2018_\" + str(i) + \".csv\"\r\n",
        "    ONTIME_REPORTING_2018 = pd.concat([ONTIME_REPORTING_2018, pd.read_csv(file_name)], ignore_index=True)\r\n",
        "ONTIME_REPORTING_2018 = ONTIME_REPORTING_2018.drop(columns='Unnamed: 9')\r\n",
        "\r\n",
        "ONTIME_REPORTING_2017 = pd.DataFrame()\r\n",
        "for i in range(11,13):\r\n",
        "    file_name = \"ONTIME_REPORTING_2017_\" + str(i) + \".csv\"\r\n",
        "    ONTIME_REPORTING_2017 = pd.concat([ONTIME_REPORTING_2017, pd.read_csv(file_name)], ignore_index=True)\r\n",
        "ONTIME_REPORTING_2017 = ONTIME_REPORTING_2017.drop(columns='Unnamed: 9')"
      ],
      "outputs": [],
      "metadata": {
        "id": "VYp0Z2N6lezX"
      }
    },
    {
      "cell_type": "code",
      "execution_count": 19,
      "source": [
        "# Check missing values\r\n",
        "flights = pd.concat([ONTIME_REPORTING_2017, ONTIME_REPORTING_2018, ONTIME_REPORTING_2019], ignore_index=True)\r\n",
        "flights.isnull().sum()"
      ],
      "outputs": [
        {
          "output_type": "execute_result",
          "data": {
            "text/plain": [
              "FL_DATE                   0\n",
              "OP_UNIQUE_CARRIER         0\n",
              "TAIL_NUM              32687\n",
              "OP_CARRIER_FL_NUM         0\n",
              "ORIGIN                    0\n",
              "DEST                      0\n",
              "DEP_DELAY            253823\n",
              "DEP_TIME_BLK              0\n",
              "CRS_ELAPSED_TIME        145\n",
              "dtype: int64"
            ]
          },
          "metadata": {},
          "execution_count": 19
        }
      ],
      "metadata": {
        "colab": {
          "base_uri": "https://localhost:8080/"
        },
        "id": "K-4-S7VClhM7",
        "outputId": "62f682dc-7b58-4b1a-bcf1-54efd341b8dd"
      }
    },
    {
      "cell_type": "code",
      "execution_count": 20,
      "source": [
        "# Remove missing values\r\n",
        "flights = flights.dropna()\r\n",
        "flights.isnull().sum()"
      ],
      "outputs": [
        {
          "output_type": "execute_result",
          "data": {
            "text/plain": [
              "FL_DATE              0\n",
              "OP_UNIQUE_CARRIER    0\n",
              "TAIL_NUM             0\n",
              "OP_CARRIER_FL_NUM    0\n",
              "ORIGIN               0\n",
              "DEST                 0\n",
              "DEP_DELAY            0\n",
              "DEP_TIME_BLK         0\n",
              "CRS_ELAPSED_TIME     0\n",
              "dtype: int64"
            ]
          },
          "metadata": {},
          "execution_count": 20
        }
      ],
      "metadata": {
        "colab": {
          "base_uri": "https://localhost:8080/"
        },
        "id": "B9XD8UCSljQy",
        "outputId": "a5338ba8-b316-4981-836a-f011445704bc"
      }
    },
    {
      "cell_type": "markdown",
      "source": [
        "## Model"
      ],
      "metadata": {
        "id": "7TRnudDXsQM7"
      }
    },
    {
      "cell_type": "code",
      "execution_count": 21,
      "source": [
        "# Set up models\r\n",
        "lr = LinearRegression(n_jobs=-1)\r\n",
        "lasso = Lasso()\r\n",
        "ridge = Ridge(random_state=42)\r\n",
        "knn = KNeighborsRegressor(n_jobs=-1)\r\n",
        "tree = DecisionTreeRegressor(random_state=42)\r\n",
        "xgboost = xgb.XGBRegressor(objective=\"reg:squarederror\", random_state=42, n_jobs=-1)\r\n",
        "\r\n",
        "model_list = ['lr', 'lasso', 'ridge', 'knn', 'tree', 'xgboost']"
      ],
      "outputs": [],
      "metadata": {
        "id": "6_EzdLmTsRqW"
      }
    },
    {
      "cell_type": "markdown",
      "source": [
        "## Model 1"
      ],
      "metadata": {
        "id": "Z5fY1YY2sJXV"
      }
    },
    {
      "cell_type": "code",
      "execution_count": 22,
      "source": [
        "# Select flight status info of Delta Airlines at Atlanta Airport\r\n",
        "# Remove extreme delay time (outliers), the threshold is 180 minutes \r\n",
        "# Split training data (2017.11 - 2019.11) and test data (2019.11, 2019.12)\r\n",
        "# Select 5% of the data for the model building \r\n",
        "flights_train = flights[(flights.OP_UNIQUE_CARRIER == \"DL\") & (flights.ORIGIN == \"ATL\") & (flights.DEP_DELAY < 180) & (flights.FL_DATE < '2019-11-01')].sample(frac=0.05, replace=False, random_state=8)\r\n",
        "flights_test = flights[(flights.OP_UNIQUE_CARRIER == \"DL\") & (flights.ORIGIN == \"ATL\") & (flights.DEP_DELAY < 180) & (flights.FL_DATE >= '2019-11-01')].sample(frac=0.05, replace=False, random_state=8)"
      ],
      "outputs": [],
      "metadata": {}
    },
    {
      "cell_type": "code",
      "execution_count": 23,
      "source": [
        "# 24152 rows for training, 1957 rows for testing\r\n",
        "print(flights_train.shape, flights_test.shape)"
      ],
      "outputs": [
        {
          "output_type": "stream",
          "name": "stdout",
          "text": [
            "(24152, 9) (1957, 9)\n"
          ]
        }
      ],
      "metadata": {}
    },
    {
      "cell_type": "code",
      "execution_count": 24,
      "source": [
        "# Select features for modeling\r\n",
        "# Transform categorical features to dummies\r\n",
        "flights_model_train = flights_train[[\"DEP_TIME_BLK\", \"CRS_ELAPSED_TIME\", \"DEP_DELAY\"]]\r\n",
        "flights_model_train = pd.get_dummies(flights_model_train)\r\n",
        "flights_model_test = flights_test[[\"DEP_TIME_BLK\", \"CRS_ELAPSED_TIME\", \"DEP_DELAY\"]]\r\n",
        "flights_model_test = pd.get_dummies(flights_model_test)\r\n",
        "\r\n",
        "# Set target variables\r\n",
        "y_train_atl = flights_model_train[\"DEP_DELAY\"]\r\n",
        "X_train_atl = flights_model_train.drop(columns=[\"DEP_DELAY\"])\r\n",
        "\r\n",
        "y_test_atl = flights_model_test[\"DEP_DELAY\"]\r\n",
        "X_test_atl = flights_model_test.drop(columns=[\"DEP_DELAY\"])"
      ],
      "outputs": [],
      "metadata": {
        "id": "97HZ8R9NlpIE"
      }
    },
    {
      "cell_type": "code",
      "execution_count": 25,
      "source": [
        "# Model 1: the base model with features only from flights status info dataset\r\n",
        "model_1_scores = list()\r\n",
        "for model in ([lr, lasso, ridge, knn, tree, xgboost]):\r\n",
        "    score = cross_val_score(model, X_train_atl, y_train_atl, cv=cv, scoring=\"neg_mean_squared_error\", n_jobs=-1)\r\n",
        "    print(\"score: \", round(-score.mean(), 2), \" +/- \", round(-score.std(), 2))\r\n",
        "    model_1_scores.append(round(-score.mean(), 2))"
      ],
      "outputs": [
        {
          "output_type": "stream",
          "name": "stdout",
          "text": [
            "score:  445.75  +/-  -10.07\n",
            "score:  453.87  +/-  -10.23\n",
            "score:  445.75  +/-  -10.07\n",
            "score:  529.15  +/-  -15.34\n",
            "score:  530.92  +/-  -7.14\n",
            "score:  471.62  +/-  -12.57\n"
          ]
        }
      ],
      "metadata": {
        "colab": {
          "base_uri": "https://localhost:8080/"
        },
        "id": "1YG_6B6Cls2W",
        "outputId": "593b267c-696d-411a-eab5-5a9d8399bfbd"
      }
    },
    {
      "cell_type": "code",
      "execution_count": 26,
      "source": [
        "# Save model 1 scores\r\n",
        "model_1_scores_results = pd.DataFrame({'model': model_list, 'score': model_1_scores})\r\n",
        "model_1_scores_results"
      ],
      "outputs": [
        {
          "output_type": "execute_result",
          "data": {
            "text/html": [
              "<div>\n",
              "<style scoped>\n",
              "    .dataframe tbody tr th:only-of-type {\n",
              "        vertical-align: middle;\n",
              "    }\n",
              "\n",
              "    .dataframe tbody tr th {\n",
              "        vertical-align: top;\n",
              "    }\n",
              "\n",
              "    .dataframe thead th {\n",
              "        text-align: right;\n",
              "    }\n",
              "</style>\n",
              "<table border=\"1\" class=\"dataframe\">\n",
              "  <thead>\n",
              "    <tr style=\"text-align: right;\">\n",
              "      <th></th>\n",
              "      <th>model</th>\n",
              "      <th>score</th>\n",
              "    </tr>\n",
              "  </thead>\n",
              "  <tbody>\n",
              "    <tr>\n",
              "      <th>0</th>\n",
              "      <td>lr</td>\n",
              "      <td>445.75</td>\n",
              "    </tr>\n",
              "    <tr>\n",
              "      <th>1</th>\n",
              "      <td>lasso</td>\n",
              "      <td>453.87</td>\n",
              "    </tr>\n",
              "    <tr>\n",
              "      <th>2</th>\n",
              "      <td>ridge</td>\n",
              "      <td>445.75</td>\n",
              "    </tr>\n",
              "    <tr>\n",
              "      <th>3</th>\n",
              "      <td>knn</td>\n",
              "      <td>529.15</td>\n",
              "    </tr>\n",
              "    <tr>\n",
              "      <th>4</th>\n",
              "      <td>tree</td>\n",
              "      <td>530.92</td>\n",
              "    </tr>\n",
              "    <tr>\n",
              "      <th>5</th>\n",
              "      <td>xgboost</td>\n",
              "      <td>471.62</td>\n",
              "    </tr>\n",
              "  </tbody>\n",
              "</table>\n",
              "</div>"
            ],
            "text/plain": [
              "     model   score\n",
              "0       lr  445.75\n",
              "1    lasso  453.87\n",
              "2    ridge  445.75\n",
              "3      knn  529.15\n",
              "4     tree  530.92\n",
              "5  xgboost  471.62"
            ]
          },
          "metadata": {},
          "execution_count": 26
        }
      ],
      "metadata": {
        "colab": {
          "base_uri": "https://localhost:8080/",
          "height": 300
        },
        "id": "rpLwU84puMyM",
        "outputId": "5a509375-c3aa-4d04-9091-6b7138b50471"
      }
    },
    {
      "cell_type": "markdown",
      "source": [
        "# Feature Engineering"
      ],
      "metadata": {
        "id": "ju7bupHVutBT"
      }
    },
    {
      "cell_type": "code",
      "execution_count": 27,
      "source": [
        "# Combine the flights info with plane info and airport info\r\n",
        "inventory = pd.read_csv('B43_INVENTORY.csv', encoding='latin1')\r\n",
        "inventory = inventory.drop(columns=\"Unnamed: 3\")\r\n",
        "airport = pd.read_csv(\"AIRPORT.csv\")\r\n",
        "airport = airport.rename(columns={'Description':'AIRPORT_NAME'})\r\n",
        "\r\n",
        "flights_train = pd.merge(flights_train, inventory, left_on='TAIL_NUM', right_on='TAIL_NUMBER')\r\n",
        "flights_test = pd.merge(flights_test, inventory, left_on='TAIL_NUM', right_on='TAIL_NUMBER')"
      ],
      "outputs": [],
      "metadata": {
        "id": "DUSBq_YhmVWR"
      }
    },
    {
      "cell_type": "code",
      "execution_count": 28,
      "source": [
        "# Create the features of year, month and day_of_week from the flight dates\r\n",
        "flights_train[\"FL_DATE\"] = pd.to_datetime(flights_train.FL_DATE)\r\n",
        "flights_train[\"YEAR\"] = flights_train.FL_DATE.dt.year\r\n",
        "flights_train[\"MONTH\"] = flights_train.FL_DATE.dt.month.astype(str)\r\n",
        "flights_train[\"DAY_OF_WEEK\"] = flights_train.FL_DATE.dt.weekday.astype(str)\r\n",
        "# Create the feature of the plane age\r\n",
        "flights_train['PLANE_AGE'] = 2019 - flights_train.MANUFACTURE_YEAR\r\n",
        "# Create the feature of the number of flights that depart in the same time block of a day at an airport\r\n",
        "FLIGHT_BLK_NUM = flights_train.groupby(['ORIGIN','FL_DATE', 'DEP_TIME_BLK'])['OP_CARRIER_FL_NUM'].count().reset_index()\r\n",
        "flights_train = pd.merge(flights_train, FLIGHT_BLK_NUM, on=['ORIGIN', 'FL_DATE', 'DEP_TIME_BLK'])\r\n",
        "\r\n",
        "# Create the features of year, month and day_of_week from the flight dates\r\n",
        "flights_test[\"FL_DATE\"] = pd.to_datetime(flights_test.FL_DATE)\r\n",
        "flights_test[\"YEAR\"] = flights_test.FL_DATE.dt.year\r\n",
        "flights_test[\"MONTH\"] = flights_test.FL_DATE.dt.month.astype(str)\r\n",
        "flights_test[\"DAY_OF_WEEK\"] = flights_test.FL_DATE.dt.weekday.astype(str)\r\n",
        "# Create the feature of the plane age\r\n",
        "flights_test['PLANE_AGE'] = 2019 - flights_test.MANUFACTURE_YEAR\r\n",
        "# Create the feature of the number of flights that depart in the same time block of a day at an airport\r\n",
        "FLIGHT_BLK_NUM = flights_test.groupby(['ORIGIN','FL_DATE', 'DEP_TIME_BLK'])['OP_CARRIER_FL_NUM'].count().reset_index()\r\n",
        "flights_test = pd.merge(flights_test, FLIGHT_BLK_NUM, on=['ORIGIN', 'FL_DATE', 'DEP_TIME_BLK'])"
      ],
      "outputs": [],
      "metadata": {
        "id": "BjBd5CyDmX2S"
      }
    },
    {
      "cell_type": "code",
      "execution_count": 29,
      "source": [
        "# Drop unneccessary columns and only keep the features we want for the model\r\n",
        "flights_train = flights_train.rename(columns={'OP_CARRIER_FL_NUM_y':'FLIGHT_BLK_NUM'})\r\n",
        "flights_train = flights_train[['DEP_DELAY', 'FL_DATE', 'MONTH', 'DAY_OF_WEEK', 'DEP_TIME_BLK',\r\n",
        "'CRS_ELAPSED_TIME', 'NUMBER_OF_SEATS', 'PLANE_AGE', 'FLIGHT_BLK_NUM']]\r\n",
        "\r\n",
        "flights_test = flights_test.rename(columns={'OP_CARRIER_FL_NUM_y':'FLIGHT_BLK_NUM'})\r\n",
        "flights_test = flights_test[['DEP_DELAY', 'FL_DATE', 'MONTH', 'DAY_OF_WEEK', 'DEP_TIME_BLK',\r\n",
        "'CRS_ELAPSED_TIME', 'NUMBER_OF_SEATS', 'PLANE_AGE', 'FLIGHT_BLK_NUM']]"
      ],
      "outputs": [],
      "metadata": {
        "id": "Ry6Bgg88mZ0f"
      }
    },
    {
      "cell_type": "markdown",
      "source": [
        "## Model 2"
      ],
      "metadata": {
        "id": "H9E3Vqmdmb_t"
      }
    },
    {
      "cell_type": "code",
      "execution_count": 30,
      "source": [
        "# Select features for modeling\r\n",
        "# Transform categorical features to dummies\r\n",
        "flights_model_train = flights_train[['DEP_DELAY', 'MONTH', 'DAY_OF_WEEK', 'DEP_TIME_BLK',\r\n",
        "'CRS_ELAPSED_TIME', 'NUMBER_OF_SEATS', 'PLANE_AGE', 'FLIGHT_BLK_NUM']]\r\n",
        "flights_model_train = pd.get_dummies(flights_model_train)\r\n",
        "flights_model_test = flights_test[['DEP_DELAY', 'MONTH', 'DAY_OF_WEEK', 'DEP_TIME_BLK',\r\n",
        "'CRS_ELAPSED_TIME', 'NUMBER_OF_SEATS', 'PLANE_AGE', 'FLIGHT_BLK_NUM']]\r\n",
        "flights_model_test = pd.get_dummies(flights_model_test)\r\n",
        "\r\n",
        "# Set target variables\r\n",
        "y_train_atl = flights_model_train[\"DEP_DELAY\"]\r\n",
        "X_train_atl = flights_model_train.drop(columns=[\"DEP_DELAY\"])\r\n",
        "\r\n",
        "y_test_atl = flights_model_test[\"DEP_DELAY\"]\r\n",
        "X_test_atl = flights_model_test.drop(columns=[\"DEP_DELAY\"])"
      ],
      "outputs": [],
      "metadata": {}
    },
    {
      "cell_type": "code",
      "execution_count": 31,
      "source": [
        "# Model 2: features from flights status data and plane info data\r\n",
        "model_2_scores = list()\r\n",
        "for model in ([lr, lasso, ridge, knn, tree, xgboost]):\r\n",
        "    score = cross_val_score(model, X_train_atl, y_train_atl, cv=cv, scoring=\"neg_mean_squared_error\", n_jobs=-1)\r\n",
        "    print(\"score: \", round(-score.mean(), 2), \" +/- \", round(-score.std(), 2))\r\n",
        "    model_2_scores.append(round(-score.mean(), 2))"
      ],
      "outputs": [
        {
          "output_type": "stream",
          "name": "stdout",
          "text": [
            "score:  440.29  +/-  -3.16\n",
            "score:  454.47  +/-  -4.69\n",
            "score:  440.28  +/-  -3.16\n",
            "score:  529.6  +/-  -3.62\n",
            "score:  927.21  +/-  -8.16\n",
            "score:  488.1  +/-  -4.91\n"
          ]
        }
      ],
      "metadata": {
        "colab": {
          "base_uri": "https://localhost:8080/"
        },
        "id": "MKXG-OROnJgu",
        "outputId": "5b991ea8-04f3-4bbd-a586-a039612ef8b7"
      }
    },
    {
      "cell_type": "code",
      "execution_count": 32,
      "source": [
        "# Save model 2 scores\r\n",
        "model_2_scores_results = pd.DataFrame({'model': model_list, 'score': model_2_scores})\r\n",
        "model_2_scores_results"
      ],
      "outputs": [
        {
          "output_type": "execute_result",
          "data": {
            "text/html": [
              "<div>\n",
              "<style scoped>\n",
              "    .dataframe tbody tr th:only-of-type {\n",
              "        vertical-align: middle;\n",
              "    }\n",
              "\n",
              "    .dataframe tbody tr th {\n",
              "        vertical-align: top;\n",
              "    }\n",
              "\n",
              "    .dataframe thead th {\n",
              "        text-align: right;\n",
              "    }\n",
              "</style>\n",
              "<table border=\"1\" class=\"dataframe\">\n",
              "  <thead>\n",
              "    <tr style=\"text-align: right;\">\n",
              "      <th></th>\n",
              "      <th>model</th>\n",
              "      <th>score</th>\n",
              "    </tr>\n",
              "  </thead>\n",
              "  <tbody>\n",
              "    <tr>\n",
              "      <th>0</th>\n",
              "      <td>lr</td>\n",
              "      <td>440.29</td>\n",
              "    </tr>\n",
              "    <tr>\n",
              "      <th>1</th>\n",
              "      <td>lasso</td>\n",
              "      <td>454.47</td>\n",
              "    </tr>\n",
              "    <tr>\n",
              "      <th>2</th>\n",
              "      <td>ridge</td>\n",
              "      <td>440.28</td>\n",
              "    </tr>\n",
              "    <tr>\n",
              "      <th>3</th>\n",
              "      <td>knn</td>\n",
              "      <td>529.60</td>\n",
              "    </tr>\n",
              "    <tr>\n",
              "      <th>4</th>\n",
              "      <td>tree</td>\n",
              "      <td>927.21</td>\n",
              "    </tr>\n",
              "    <tr>\n",
              "      <th>5</th>\n",
              "      <td>xgboost</td>\n",
              "      <td>488.10</td>\n",
              "    </tr>\n",
              "  </tbody>\n",
              "</table>\n",
              "</div>"
            ],
            "text/plain": [
              "     model   score\n",
              "0       lr  440.29\n",
              "1    lasso  454.47\n",
              "2    ridge  440.28\n",
              "3      knn  529.60\n",
              "4     tree  927.21\n",
              "5  xgboost  488.10"
            ]
          },
          "metadata": {},
          "execution_count": 32
        }
      ],
      "metadata": {
        "colab": {
          "base_uri": "https://localhost:8080/",
          "height": 300
        },
        "id": "64XD8-Urv0tJ",
        "outputId": "67afb942-1bd6-46b9-cd4e-d4ed1c38e934"
      }
    },
    {
      "cell_type": "markdown",
      "source": [
        "# Joining Weather Data"
      ],
      "metadata": {
        "id": "JRnq-nLrnyQG"
      }
    },
    {
      "cell_type": "code",
      "execution_count": 33,
      "source": [
        "# Prepare the weather datasets\r\n",
        "# Removing unnecessary features\r\n",
        "# Fill out the categorical features with 0 and 1\r\n",
        "# Transform some features from floats to integers for dummy transformation\r\n",
        "# Change the type of date to datetime \r\n",
        "weather = pd.read_csv(\"WEATHER_ATL.csv\")\r\n",
        "weather = weather.drop(columns=[\"PGTM\", \"WDF2\", \"WDF5\", \"STATION\", \"NAME\"]).fillna(0)\r\n",
        "weather[\"WT01\"] = weather.WT01.astype('uint8')\r\n",
        "weather[\"WT02\"] = weather.WT02.astype('uint8')\r\n",
        "weather[\"WT03\"] = weather.WT03.astype('uint8')\r\n",
        "weather[\"WT04\"] = weather.WT04.astype('uint8')\r\n",
        "weather[\"WT05\"] = weather.WT05.astype('uint8')\r\n",
        "weather[\"WT08\"] = weather.WT08.astype('uint8')\r\n",
        "weather['DATE'] = pd.to_datetime(weather.DATE)"
      ],
      "outputs": [],
      "metadata": {
        "id": "92WuSk8in3RQ"
      }
    },
    {
      "cell_type": "code",
      "execution_count": 34,
      "source": [
        "# Join flights data with weater data\r\n",
        "flights_train = pd.merge(flights_train, weather, left_on=\"FL_DATE\", right_on=\"DATE\")\r\n",
        "flights_test = pd.merge(flights_test, weather, left_on=\"FL_DATE\", right_on=\"DATE\")"
      ],
      "outputs": [],
      "metadata": {}
    },
    {
      "cell_type": "markdown",
      "source": [
        "## Model 3"
      ],
      "metadata": {
        "id": "96pYoyjVn0E8"
      }
    },
    {
      "cell_type": "code",
      "execution_count": 35,
      "source": [
        "# Select features for modeling\r\n",
        "# Transform categorical features to dummies\r\n",
        "flights_model_train = flights_train.drop(columns=[\"FL_DATE\", \"DATE\"])\r\n",
        "flights_model_train = pd.get_dummies(flights_model_train)\r\n",
        "flights_model_test = flights_test.drop(columns=[\"FL_DATE\", \"DATE\"])\r\n",
        "flights_model_test = pd.get_dummies(flights_model_test)\r\n",
        "\r\n",
        "# Set target variables\r\n",
        "y_train_atl = flights_model_train[\"DEP_DELAY\"]\r\n",
        "X_train_atl = flights_model_train.drop(columns=[\"DEP_DELAY\"])\r\n",
        "\r\n",
        "y_test_atl = flights_model_test[\"DEP_DELAY\"]\r\n",
        "X_test_atl = flights_model_test.drop(columns=[\"DEP_DELAY\"])"
      ],
      "outputs": [],
      "metadata": {}
    },
    {
      "cell_type": "code",
      "execution_count": 36,
      "source": [
        "# Model 3: Model with features of flight data and weather data\r\n",
        "model_3_scores = list()\r\n",
        "for model in ([lr, lasso, ridge, knn, tree, xgboost]):\r\n",
        "    score = cross_val_score(model, X_train_atl, y_train_atl, cv=cv, scoring=\"neg_mean_squared_error\", n_jobs=-1)\r\n",
        "    print(\"score: \", round(-score.mean(), 2), \" +/- \", round(-score.std(), 2))\r\n",
        "    model_3_scores.append(round(-score.mean(), 2))"
      ],
      "outputs": [
        {
          "output_type": "stream",
          "name": "stdout",
          "text": [
            "score:  413.13  +/-  -34.02\n",
            "score:  437.61  +/-  -40.86\n",
            "score:  413.14  +/-  -34.06\n",
            "score:  508.22  +/-  -29.48\n",
            "score:  823.09  +/-  -24.35\n",
            "score:  422.76  +/-  -28.85\n"
          ]
        }
      ],
      "metadata": {
        "colab": {
          "base_uri": "https://localhost:8080/"
        },
        "id": "uPRZzy78oPCO",
        "outputId": "45a0b079-5582-43b2-99ee-8f7b0a6469d8"
      }
    },
    {
      "cell_type": "code",
      "execution_count": 37,
      "source": [
        "# Save model 3 scores\r\n",
        "model_3_scores_results = pd.DataFrame({'model': model_list, 'score': model_3_scores})\r\n",
        "model_3_scores_results"
      ],
      "outputs": [
        {
          "output_type": "execute_result",
          "data": {
            "text/html": [
              "<div>\n",
              "<style scoped>\n",
              "    .dataframe tbody tr th:only-of-type {\n",
              "        vertical-align: middle;\n",
              "    }\n",
              "\n",
              "    .dataframe tbody tr th {\n",
              "        vertical-align: top;\n",
              "    }\n",
              "\n",
              "    .dataframe thead th {\n",
              "        text-align: right;\n",
              "    }\n",
              "</style>\n",
              "<table border=\"1\" class=\"dataframe\">\n",
              "  <thead>\n",
              "    <tr style=\"text-align: right;\">\n",
              "      <th></th>\n",
              "      <th>model</th>\n",
              "      <th>score</th>\n",
              "    </tr>\n",
              "  </thead>\n",
              "  <tbody>\n",
              "    <tr>\n",
              "      <th>0</th>\n",
              "      <td>lr</td>\n",
              "      <td>413.13</td>\n",
              "    </tr>\n",
              "    <tr>\n",
              "      <th>1</th>\n",
              "      <td>lasso</td>\n",
              "      <td>437.61</td>\n",
              "    </tr>\n",
              "    <tr>\n",
              "      <th>2</th>\n",
              "      <td>ridge</td>\n",
              "      <td>413.14</td>\n",
              "    </tr>\n",
              "    <tr>\n",
              "      <th>3</th>\n",
              "      <td>knn</td>\n",
              "      <td>508.22</td>\n",
              "    </tr>\n",
              "    <tr>\n",
              "      <th>4</th>\n",
              "      <td>tree</td>\n",
              "      <td>823.09</td>\n",
              "    </tr>\n",
              "    <tr>\n",
              "      <th>5</th>\n",
              "      <td>xgboost</td>\n",
              "      <td>422.76</td>\n",
              "    </tr>\n",
              "  </tbody>\n",
              "</table>\n",
              "</div>"
            ],
            "text/plain": [
              "     model   score\n",
              "0       lr  413.13\n",
              "1    lasso  437.61\n",
              "2    ridge  413.14\n",
              "3      knn  508.22\n",
              "4     tree  823.09\n",
              "5  xgboost  422.76"
            ]
          },
          "metadata": {},
          "execution_count": 37
        }
      ],
      "metadata": {
        "colab": {
          "base_uri": "https://localhost:8080/",
          "height": 300
        },
        "id": "V6fg5Psex9Cr",
        "outputId": "c94675c0-f0c0-4502-81e4-73c66c8ee1aa"
      }
    },
    {
      "cell_type": "markdown",
      "source": [
        "# Standardization"
      ],
      "metadata": {}
    },
    {
      "cell_type": "code",
      "execution_count": 38,
      "source": [
        "# Standarlize the data\r\n",
        "sc = StandardScaler()\r\n",
        "sc.fit(X_train_atl)\r\n",
        "X_train_atl_sc = sc.transform(X_train_atl)"
      ],
      "outputs": [],
      "metadata": {}
    },
    {
      "cell_type": "markdown",
      "source": [
        "## Model 4"
      ],
      "metadata": {}
    },
    {
      "cell_type": "code",
      "execution_count": 39,
      "source": [
        "# Model 4: Model with standardized data\r\n",
        "model_4_scores = list()\r\n",
        "for model in ([lr, lasso, ridge, knn, tree, xgboost]):\r\n",
        "    score = cross_val_score(model, X_train_atl_sc, y_train_atl, cv=cv, scoring=\"neg_mean_squared_error\", n_jobs=-1)\r\n",
        "    print(\"score: \", round(-score.mean(), 2), \" +/- \", round(-score.std(), 2))\r\n",
        "    model_4_scores.append(round(-score.mean(), 2))"
      ],
      "outputs": [
        {
          "output_type": "stream",
          "name": "stdout",
          "text": [
            "score:  413.09  +/-  -34.09\n",
            "score:  431.04  +/-  -39.95\n",
            "score:  413.13  +/-  -34.02\n",
            "score:  465.32  +/-  -31.45\n",
            "score:  822.12  +/-  -22.84\n",
            "score:  422.84  +/-  -28.86\n"
          ]
        }
      ],
      "metadata": {}
    },
    {
      "cell_type": "code",
      "execution_count": 40,
      "source": [
        "# Save model 4 scores\r\n",
        "model_4_scores_results = pd.DataFrame({'model': model_list, 'score': model_4_scores})\r\n",
        "model_4_scores_results"
      ],
      "outputs": [
        {
          "output_type": "execute_result",
          "data": {
            "text/html": [
              "<div>\n",
              "<style scoped>\n",
              "    .dataframe tbody tr th:only-of-type {\n",
              "        vertical-align: middle;\n",
              "    }\n",
              "\n",
              "    .dataframe tbody tr th {\n",
              "        vertical-align: top;\n",
              "    }\n",
              "\n",
              "    .dataframe thead th {\n",
              "        text-align: right;\n",
              "    }\n",
              "</style>\n",
              "<table border=\"1\" class=\"dataframe\">\n",
              "  <thead>\n",
              "    <tr style=\"text-align: right;\">\n",
              "      <th></th>\n",
              "      <th>model</th>\n",
              "      <th>score</th>\n",
              "    </tr>\n",
              "  </thead>\n",
              "  <tbody>\n",
              "    <tr>\n",
              "      <th>0</th>\n",
              "      <td>lr</td>\n",
              "      <td>413.09</td>\n",
              "    </tr>\n",
              "    <tr>\n",
              "      <th>1</th>\n",
              "      <td>lasso</td>\n",
              "      <td>431.04</td>\n",
              "    </tr>\n",
              "    <tr>\n",
              "      <th>2</th>\n",
              "      <td>ridge</td>\n",
              "      <td>413.13</td>\n",
              "    </tr>\n",
              "    <tr>\n",
              "      <th>3</th>\n",
              "      <td>knn</td>\n",
              "      <td>465.32</td>\n",
              "    </tr>\n",
              "    <tr>\n",
              "      <th>4</th>\n",
              "      <td>tree</td>\n",
              "      <td>822.12</td>\n",
              "    </tr>\n",
              "    <tr>\n",
              "      <th>5</th>\n",
              "      <td>xgboost</td>\n",
              "      <td>422.84</td>\n",
              "    </tr>\n",
              "  </tbody>\n",
              "</table>\n",
              "</div>"
            ],
            "text/plain": [
              "     model   score\n",
              "0       lr  413.09\n",
              "1    lasso  431.04\n",
              "2    ridge  413.13\n",
              "3      knn  465.32\n",
              "4     tree  822.12\n",
              "5  xgboost  422.84"
            ]
          },
          "metadata": {},
          "execution_count": 40
        }
      ],
      "metadata": {}
    },
    {
      "cell_type": "markdown",
      "source": [
        "# Feature Selection"
      ],
      "metadata": {
        "id": "Z3tB6hsWHQC6"
      }
    },
    {
      "cell_type": "code",
      "execution_count": 41,
      "source": [
        "# Create a function for feature selection\r\n",
        "# Use sequential forward selection\r\n",
        "# Return the peformance table with selected features and cv scores in each step\r\n",
        "def feature_selection(model, train_data):\r\n",
        "    sfs_model = SFS(model, k_features=X_train_atl.shape[1], forward=True, floating=False, verbose=2, scoring='neg_mean_squared_error', cv=cv, n_jobs=-1)\r\n",
        "    sfs_model = sfs_model.fit(train_data, y_train_atl)\r\n",
        "    sfs_model_results = pd.DataFrame.from_dict(sfs_model.get_metric_dict()).T\r\n",
        "    sfs_model_results['avg_score'] = np.abs(sfs_model_results['avg_score'])\r\n",
        "    return(sfs_model_results)"
      ],
      "outputs": [],
      "metadata": {}
    },
    {
      "cell_type": "code",
      "execution_count": null,
      "source": [
        "# Apply the function to different models\r\n",
        "# Use standardized data for knn\r\n",
        "# Warning: it takes about 2 hours with 12 cores to finish \r\n",
        "sfs_lr_results = feature_selection(lr, X_train_atl)\r\n",
        "sfs_lasso_results = feature_selection(lasso, X_train_atl)\r\n",
        "sfs_ridge_results = feature_selection(ridge, X_train_atl)\r\n",
        "sfs_tree_results = feature_selection(tree, X_train_atl)\r\n",
        "sfs_xgboost_results = feature_selection(xgboost, X_train_atl)\r\n",
        "\r\n",
        "sfs_knn_results = feature_selection(knn, X_train_atl_sc)"
      ],
      "outputs": [
        {
          "output_type": "stream",
          "name": "stderr",
          "text": [
            "[Parallel(n_jobs=-1)]: Using backend LokyBackend with 12 concurrent workers.\n",
            "[Parallel(n_jobs=-1)]: Done  17 tasks      | elapsed:    0.0s\n",
            "[Parallel(n_jobs=-1)]: Done  56 out of  56 | elapsed:    0.1s finished\n",
            "\n",
            "[2021-10-02 12:37:47] Features: 1/56 -- score: -443.6949455640497[Parallel(n_jobs=-1)]: Using backend LokyBackend with 12 concurrent workers.\n",
            "[Parallel(n_jobs=-1)]: Done  17 tasks      | elapsed:    0.0s\n",
            "[Parallel(n_jobs=-1)]: Done  32 out of  55 | elapsed:    0.0s remaining:    0.0s\n",
            "[Parallel(n_jobs=-1)]: Done  55 out of  55 | elapsed:    0.1s finished\n",
            "\n",
            "[2021-10-02 12:37:47] Features: 2/56 -- score: -437.7565597881838[Parallel(n_jobs=-1)]: Using backend LokyBackend with 12 concurrent workers.\n",
            "[Parallel(n_jobs=-1)]: Done  17 tasks      | elapsed:    0.0s\n",
            "[Parallel(n_jobs=-1)]: Done  54 out of  54 | elapsed:    0.1s finished\n",
            "\n",
            "[2021-10-02 12:37:47] Features: 3/56 -- score: -432.885105858049[Parallel(n_jobs=-1)]: Using backend LokyBackend with 12 concurrent workers.\n",
            "[Parallel(n_jobs=-1)]: Done  17 tasks      | elapsed:    0.0s\n",
            "[Parallel(n_jobs=-1)]: Done  30 out of  53 | elapsed:    0.1s remaining:    0.0s\n",
            "[Parallel(n_jobs=-1)]: Done  53 out of  53 | elapsed:    0.1s finished\n",
            "\n",
            "[2021-10-02 12:37:47] Features: 4/56 -- score: -429.9450943306544[Parallel(n_jobs=-1)]: Using backend LokyBackend with 12 concurrent workers.\n",
            "[Parallel(n_jobs=-1)]: Done  17 tasks      | elapsed:    0.1s\n",
            "[Parallel(n_jobs=-1)]: Done  52 out of  52 | elapsed:    0.2s finished\n",
            "\n",
            "[2021-10-02 12:37:48] Features: 5/56 -- score: -427.8221172461792[Parallel(n_jobs=-1)]: Using backend LokyBackend with 12 concurrent workers.\n",
            "[Parallel(n_jobs=-1)]: Done  28 out of  51 | elapsed:    0.2s remaining:    0.1s\n",
            "[Parallel(n_jobs=-1)]: Done  51 out of  51 | elapsed:    0.3s finished\n",
            "\n",
            "[2021-10-02 12:37:48] Features: 6/56 -- score: -426.32158645382765[Parallel(n_jobs=-1)]: Using backend LokyBackend with 12 concurrent workers.\n",
            "[Parallel(n_jobs=-1)]: Done  50 out of  50 | elapsed:    0.3s finished\n",
            "\n",
            "[2021-10-02 12:37:48] Features: 7/56 -- score: -424.871490681297[Parallel(n_jobs=-1)]: Using backend LokyBackend with 12 concurrent workers.\n",
            "[Parallel(n_jobs=-1)]: Done  26 out of  49 | elapsed:    0.2s remaining:    0.1s\n",
            "[Parallel(n_jobs=-1)]: Done  49 out of  49 | elapsed:    0.3s finished\n",
            "\n",
            "[2021-10-02 12:37:49] Features: 8/56 -- score: -423.45630193717085[Parallel(n_jobs=-1)]: Using backend LokyBackend with 12 concurrent workers.\n",
            "[Parallel(n_jobs=-1)]: Done  48 out of  48 | elapsed:    0.3s finished\n",
            "\n",
            "[2021-10-02 12:37:49] Features: 9/56 -- score: -422.14041131673434[Parallel(n_jobs=-1)]: Using backend LokyBackend with 12 concurrent workers.\n",
            "[Parallel(n_jobs=-1)]: Done  17 tasks      | elapsed:    0.1s\n",
            "[Parallel(n_jobs=-1)]: Done  47 out of  47 | elapsed:    0.3s finished\n",
            "\n",
            "[2021-10-02 12:37:50] Features: 10/56 -- score: -421.0596482604651[Parallel(n_jobs=-1)]: Using backend LokyBackend with 12 concurrent workers.\n",
            "[Parallel(n_jobs=-1)]: Done  17 tasks      | elapsed:    0.1s\n",
            "[Parallel(n_jobs=-1)]: Done  46 out of  46 | elapsed:    0.3s finished\n",
            "\n",
            "[2021-10-02 12:37:51] Features: 11/56 -- score: -420.2232932854982[Parallel(n_jobs=-1)]: Using backend LokyBackend with 12 concurrent workers.\n",
            "[Parallel(n_jobs=-1)]: Done  17 tasks      | elapsed:    0.1s\n",
            "[Parallel(n_jobs=-1)]: Done  45 out of  45 | elapsed:    0.3s remaining:    0.0s\n",
            "[Parallel(n_jobs=-1)]: Done  45 out of  45 | elapsed:    0.3s finished\n",
            "\n",
            "[2021-10-02 12:37:51] Features: 12/56 -- score: -419.42915682841164[Parallel(n_jobs=-1)]: Using backend LokyBackend with 12 concurrent workers.\n",
            "[Parallel(n_jobs=-1)]: Done  17 tasks      | elapsed:    0.1s\n",
            "[Parallel(n_jobs=-1)]: Done  44 out of  44 | elapsed:    0.4s remaining:    0.0s\n",
            "[Parallel(n_jobs=-1)]: Done  44 out of  44 | elapsed:    0.4s finished\n",
            "\n",
            "[2021-10-02 12:37:52] Features: 13/56 -- score: -418.6911885710236[Parallel(n_jobs=-1)]: Using backend LokyBackend with 12 concurrent workers.\n",
            "[Parallel(n_jobs=-1)]: Done  17 tasks      | elapsed:    0.1s\n",
            "[Parallel(n_jobs=-1)]: Done  43 out of  43 | elapsed:    0.4s finished\n",
            "\n",
            "[2021-10-02 12:37:52] Features: 14/56 -- score: -417.8346533067297[Parallel(n_jobs=-1)]: Using backend LokyBackend with 12 concurrent workers.\n",
            "[Parallel(n_jobs=-1)]: Done  17 tasks      | elapsed:    0.2s\n",
            "[Parallel(n_jobs=-1)]: Done  42 out of  42 | elapsed:    0.5s finished\n",
            "\n",
            "[2021-10-02 12:37:53] Features: 15/56 -- score: -416.9412733947136[Parallel(n_jobs=-1)]: Using backend LokyBackend with 12 concurrent workers.\n",
            "[Parallel(n_jobs=-1)]: Done  17 tasks      | elapsed:    0.2s\n",
            "[Parallel(n_jobs=-1)]: Done  39 out of  41 | elapsed:    0.4s remaining:    0.0s\n",
            "[Parallel(n_jobs=-1)]: Done  41 out of  41 | elapsed:    0.4s finished\n",
            "\n",
            "[2021-10-02 12:37:54] Features: 16/56 -- score: -416.3646110427353[Parallel(n_jobs=-1)]: Using backend LokyBackend with 12 concurrent workers.\n",
            "[Parallel(n_jobs=-1)]: Done  17 tasks      | elapsed:    0.3s\n",
            "[Parallel(n_jobs=-1)]: Done  38 out of  40 | elapsed:    0.5s remaining:    0.0s\n",
            "[Parallel(n_jobs=-1)]: Done  40 out of  40 | elapsed:    0.5s finished\n",
            "\n",
            "[2021-10-02 12:37:54] Features: 17/56 -- score: -415.9181277098417[Parallel(n_jobs=-1)]: Using backend LokyBackend with 12 concurrent workers.\n",
            "[Parallel(n_jobs=-1)]: Done  36 out of  39 | elapsed:    0.5s remaining:    0.0s\n",
            "[Parallel(n_jobs=-1)]: Done  39 out of  39 | elapsed:    0.6s finished\n",
            "\n",
            "[2021-10-02 12:37:55] Features: 18/56 -- score: -415.51907784819537[Parallel(n_jobs=-1)]: Using backend LokyBackend with 12 concurrent workers.\n",
            "[Parallel(n_jobs=-1)]: Done  35 out of  38 | elapsed:    0.5s remaining:    0.0s\n",
            "[Parallel(n_jobs=-1)]: Done  38 out of  38 | elapsed:    0.5s finished\n",
            "\n",
            "[2021-10-02 12:37:56] Features: 19/56 -- score: -415.14934467634913[Parallel(n_jobs=-1)]: Using backend LokyBackend with 12 concurrent workers.\n",
            "[Parallel(n_jobs=-1)]: Done  33 out of  37 | elapsed:    0.5s remaining:    0.0s\n",
            "[Parallel(n_jobs=-1)]: Done  37 out of  37 | elapsed:    0.6s finished\n",
            "\n",
            "[2021-10-02 12:37:56] Features: 20/56 -- score: -414.78824159436687[Parallel(n_jobs=-1)]: Using backend LokyBackend with 12 concurrent workers.\n",
            "[Parallel(n_jobs=-1)]: Done  32 out of  36 | elapsed:    0.5s remaining:    0.0s\n",
            "[Parallel(n_jobs=-1)]: Done  36 out of  36 | elapsed:    0.5s finished\n",
            "\n",
            "[2021-10-02 12:37:57] Features: 21/56 -- score: -414.4875015906594[Parallel(n_jobs=-1)]: Using backend LokyBackend with 12 concurrent workers.\n",
            "[Parallel(n_jobs=-1)]: Done  30 out of  35 | elapsed:    0.5s remaining:    0.0s\n",
            "[Parallel(n_jobs=-1)]: Done  35 out of  35 | elapsed:    0.6s finished\n",
            "\n",
            "[2021-10-02 12:37:58] Features: 22/56 -- score: -414.21862182002775[Parallel(n_jobs=-1)]: Using backend LokyBackend with 12 concurrent workers.\n",
            "[Parallel(n_jobs=-1)]: Done  29 out of  34 | elapsed:    0.5s remaining:    0.0s\n",
            "[Parallel(n_jobs=-1)]: Done  34 out of  34 | elapsed:    0.6s finished\n",
            "\n",
            "[2021-10-02 12:37:59] Features: 23/56 -- score: -413.9715885966636[Parallel(n_jobs=-1)]: Using backend LokyBackend with 12 concurrent workers.\n",
            "[Parallel(n_jobs=-1)]: Done  27 out of  33 | elapsed:    0.5s remaining:    0.0s\n",
            "[Parallel(n_jobs=-1)]: Done  33 out of  33 | elapsed:    0.5s finished\n",
            "\n",
            "[2021-10-02 12:38:00] Features: 24/56 -- score: -413.7677462636109[Parallel(n_jobs=-1)]: Using backend LokyBackend with 12 concurrent workers.\n",
            "[Parallel(n_jobs=-1)]: Done  26 out of  32 | elapsed:    0.5s remaining:    0.0s\n",
            "[Parallel(n_jobs=-1)]: Done  32 out of  32 | elapsed:    0.5s finished\n",
            "\n",
            "[2021-10-02 12:38:00] Features: 25/56 -- score: -413.5688994107258[Parallel(n_jobs=-1)]: Using backend LokyBackend with 12 concurrent workers.\n",
            "[Parallel(n_jobs=-1)]: Done  24 out of  31 | elapsed:    0.5s remaining:    0.1s\n",
            "[Parallel(n_jobs=-1)]: Done  31 out of  31 | elapsed:    0.6s finished\n",
            "\n",
            "[2021-10-02 12:38:01] Features: 26/56 -- score: -413.456557921563[Parallel(n_jobs=-1)]: Using backend LokyBackend with 12 concurrent workers.\n",
            "[Parallel(n_jobs=-1)]: Done  23 out of  30 | elapsed:    0.5s remaining:    0.1s\n",
            "[Parallel(n_jobs=-1)]: Done  30 out of  30 | elapsed:    0.6s finished\n",
            "\n",
            "[2021-10-02 12:38:02] Features: 27/56 -- score: -413.18806397954785[Parallel(n_jobs=-1)]: Using backend LokyBackend with 12 concurrent workers.\n",
            "[Parallel(n_jobs=-1)]: Done  21 out of  29 | elapsed:    0.5s remaining:    0.1s\n",
            "[Parallel(n_jobs=-1)]: Done  29 out of  29 | elapsed:    0.6s finished\n",
            "\n",
            "[2021-10-02 12:38:03] Features: 28/56 -- score: -412.9061693094743[Parallel(n_jobs=-1)]: Using backend LokyBackend with 12 concurrent workers.\n",
            "[Parallel(n_jobs=-1)]: Done  20 out of  28 | elapsed:    0.5s remaining:    0.1s\n",
            "[Parallel(n_jobs=-1)]: Done  28 out of  28 | elapsed:    0.6s finished\n",
            "\n",
            "[2021-10-02 12:38:04] Features: 29/56 -- score: -412.7922090058161[Parallel(n_jobs=-1)]: Using backend LokyBackend with 12 concurrent workers.\n",
            "[Parallel(n_jobs=-1)]: Done  18 out of  27 | elapsed:    0.5s remaining:    0.2s\n",
            "[Parallel(n_jobs=-1)]: Done  27 out of  27 | elapsed:    0.6s finished\n",
            "\n",
            "[2021-10-02 12:38:04] Features: 30/56 -- score: -412.6529516602299[Parallel(n_jobs=-1)]: Using backend LokyBackend with 12 concurrent workers.\n",
            "[Parallel(n_jobs=-1)]: Done  17 out of  26 | elapsed:    0.5s remaining:    0.2s\n",
            "[Parallel(n_jobs=-1)]: Done  26 out of  26 | elapsed:    0.6s finished\n",
            "\n",
            "[2021-10-02 12:38:05] Features: 31/56 -- score: -412.558578628021[Parallel(n_jobs=-1)]: Using backend LokyBackend with 12 concurrent workers.\n",
            "[Parallel(n_jobs=-1)]: Done  15 out of  25 | elapsed:    0.5s remaining:    0.3s\n",
            "[Parallel(n_jobs=-1)]: Done  25 out of  25 | elapsed:    0.7s finished\n",
            "\n",
            "[2021-10-02 12:38:06] Features: 32/56 -- score: -412.4771420209435[Parallel(n_jobs=-1)]: Using backend LokyBackend with 12 concurrent workers.\n",
            "[Parallel(n_jobs=-1)]: Done  14 out of  24 | elapsed:    0.5s remaining:    0.3s\n",
            "[Parallel(n_jobs=-1)]: Done  24 out of  24 | elapsed:    0.7s finished\n",
            "\n",
            "[2021-10-02 12:38:07] Features: 33/56 -- score: -412.4269097348413[Parallel(n_jobs=-1)]: Using backend LokyBackend with 12 concurrent workers.\n",
            "[Parallel(n_jobs=-1)]: Done  12 out of  23 | elapsed:    0.3s remaining:    0.3s\n",
            "[Parallel(n_jobs=-1)]: Done  23 out of  23 | elapsed:    0.6s finished\n",
            "\n",
            "[2021-10-02 12:38:08] Features: 34/56 -- score: -412.398524636118[Parallel(n_jobs=-1)]: Using backend LokyBackend with 12 concurrent workers.\n",
            "[Parallel(n_jobs=-1)]: Done  11 out of  22 | elapsed:    0.3s remaining:    0.3s\n",
            "[Parallel(n_jobs=-1)]: Done  22 out of  22 | elapsed:    0.5s finished\n",
            "\n",
            "[2021-10-02 12:38:09] Features: 35/56 -- score: -412.3846391827763[Parallel(n_jobs=-1)]: Using backend LokyBackend with 12 concurrent workers.\n",
            "[Parallel(n_jobs=-1)]: Done   9 out of  21 | elapsed:    0.3s remaining:    0.4s\n",
            "[Parallel(n_jobs=-1)]: Done  21 out of  21 | elapsed:    0.6s finished\n",
            "\n",
            "[2021-10-02 12:38:09] Features: 36/56 -- score: -412.3409833402054[Parallel(n_jobs=-1)]: Using backend LokyBackend with 12 concurrent workers.\n",
            "[Parallel(n_jobs=-1)]: Done   8 out of  20 | elapsed:    0.3s remaining:    0.5s\n",
            "[Parallel(n_jobs=-1)]: Done  20 out of  20 | elapsed:    0.5s finished\n",
            "\n",
            "[2021-10-02 12:38:10] Features: 37/56 -- score: -412.2932549703831[Parallel(n_jobs=-1)]: Using backend LokyBackend with 12 concurrent workers.\n",
            "[Parallel(n_jobs=-1)]: Done   6 out of  19 | elapsed:    0.2s remaining:    0.6s\n",
            "[Parallel(n_jobs=-1)]: Done  16 out of  19 | elapsed:    0.5s remaining:    0.0s\n",
            "[Parallel(n_jobs=-1)]: Done  19 out of  19 | elapsed:    0.5s finished\n",
            "\n",
            "[2021-10-02 12:38:11] Features: 38/56 -- score: -412.27806142870367[Parallel(n_jobs=-1)]: Using backend LokyBackend with 12 concurrent workers.\n",
            "[Parallel(n_jobs=-1)]: Done   5 out of  18 | elapsed:    0.2s remaining:    0.8s\n",
            "[Parallel(n_jobs=-1)]: Done  15 out of  18 | elapsed:    0.5s remaining:    0.0s\n",
            "[Parallel(n_jobs=-1)]: Done  18 out of  18 | elapsed:    0.5s finished\n",
            "\n",
            "[2021-10-02 12:38:11] Features: 39/56 -- score: -412.2665233183697[Parallel(n_jobs=-1)]: Using backend LokyBackend with 12 concurrent workers.\n",
            "[Parallel(n_jobs=-1)]: Done   3 out of  17 | elapsed:    0.2s remaining:    1.2s\n",
            "[Parallel(n_jobs=-1)]: Done  12 out of  17 | elapsed:    0.3s remaining:    0.1s\n",
            "[Parallel(n_jobs=-1)]: Done  17 out of  17 | elapsed:    0.5s finished\n",
            "\n",
            "[2021-10-02 12:38:12] Features: 40/56 -- score: -412.2665233183697[Parallel(n_jobs=-1)]: Using backend LokyBackend with 12 concurrent workers.\n",
            "[Parallel(n_jobs=-1)]: Done   2 out of  16 | elapsed:    0.2s remaining:    1.8s\n",
            "[Parallel(n_jobs=-1)]: Done  11 out of  16 | elapsed:    0.4s remaining:    0.1s\n",
            "[Parallel(n_jobs=-1)]: Done  16 out of  16 | elapsed:    0.5s finished\n",
            "\n",
            "[2021-10-02 12:38:13] Features: 41/56 -- score: -412.27809362138083[Parallel(n_jobs=-1)]: Using backend LokyBackend with 12 concurrent workers.\n",
            "[Parallel(n_jobs=-1)]: Done   8 out of  15 | elapsed:    0.3s remaining:    0.3s\n",
            "[Parallel(n_jobs=-1)]: Done  15 out of  15 | elapsed:    0.4s finished\n",
            "\n",
            "[2021-10-02 12:38:13] Features: 42/56 -- score: -412.29920611264174[Parallel(n_jobs=-1)]: Using backend LokyBackend with 12 concurrent workers.\n",
            "[Parallel(n_jobs=-1)]: Done   7 out of  14 | elapsed:    0.3s remaining:    0.3s\n",
            "[Parallel(n_jobs=-1)]: Done  14 out of  14 | elapsed:    0.4s finished\n",
            "\n",
            "[2021-10-02 12:38:14] Features: 43/56 -- score: -412.32181250976026[Parallel(n_jobs=-1)]: Using backend LokyBackend with 12 concurrent workers.\n",
            "[Parallel(n_jobs=-1)]: Done   4 out of  13 | elapsed:    0.2s remaining:    0.7s\n",
            "[Parallel(n_jobs=-1)]: Done  11 out of  13 | elapsed:    0.4s remaining:    0.0s\n",
            "[Parallel(n_jobs=-1)]: Done  13 out of  13 | elapsed:    0.4s finished\n",
            "\n",
            "[2021-10-02 12:38:15] Features: 44/56 -- score: -412.34807312122643[Parallel(n_jobs=-1)]: Using backend LokyBackend with 12 concurrent workers.\n",
            "[Parallel(n_jobs=-1)]: Done   3 out of  12 | elapsed:    0.3s remaining:    1.0s\n",
            "[Parallel(n_jobs=-1)]: Done  10 out of  12 | elapsed:    0.4s remaining:    0.0s\n",
            "[Parallel(n_jobs=-1)]: Done  12 out of  12 | elapsed:    0.4s finished\n",
            "\n",
            "[2021-10-02 12:38:15] Features: 45/56 -- score: -412.38174659473924[Parallel(n_jobs=-1)]: Using backend LokyBackend with 12 concurrent workers.\n",
            "[Parallel(n_jobs=-1)]: Done   6 out of  11 | elapsed:    0.3s remaining:    0.2s\n",
            "[Parallel(n_jobs=-1)]: Done  11 out of  11 | elapsed:    0.4s finished\n",
            "\n",
            "[2021-10-02 12:38:16] Features: 46/56 -- score: -412.41552236683583[Parallel(n_jobs=-1)]: Using backend LokyBackend with 12 concurrent workers.\n",
            "[Parallel(n_jobs=-1)]: Done   5 out of  10 | elapsed:    0.3s remaining:    0.3s\n",
            "[Parallel(n_jobs=-1)]: Done  10 out of  10 | elapsed:    0.3s finished\n",
            "\n",
            "[2021-10-02 12:38:17] Features: 47/56 -- score: -412.4767919505109[Parallel(n_jobs=-1)]: Using backend LokyBackend with 12 concurrent workers.\n",
            "[Parallel(n_jobs=-1)]: Done   6 out of   9 | elapsed:    0.3s remaining:    0.1s\n",
            "[Parallel(n_jobs=-1)]: Done   9 out of   9 | elapsed:    0.4s finished\n",
            "\n",
            "[2021-10-02 12:38:17] Features: 48/56 -- score: -412.5434285162492[Parallel(n_jobs=-1)]: Using backend LokyBackend with 12 concurrent workers.\n",
            "[Parallel(n_jobs=-1)]: Done   5 out of   8 | elapsed:    0.2s remaining:    0.1s\n",
            "[Parallel(n_jobs=-1)]: Done   8 out of   8 | elapsed:    0.2s finished\n",
            "\n",
            "[2021-10-02 12:38:18] Features: 49/56 -- score: -412.5434285162493[Parallel(n_jobs=-1)]: Using backend LokyBackend with 12 concurrent workers.\n",
            "[Parallel(n_jobs=-1)]: Done   4 out of   7 | elapsed:    0.2s remaining:    0.1s\n",
            "[Parallel(n_jobs=-1)]: Done   7 out of   7 | elapsed:    0.2s finished\n",
            "\n",
            "[2021-10-02 12:38:18] Features: 50/56 -- score: -412.6101487635074[Parallel(n_jobs=-1)]: Using backend LokyBackend with 12 concurrent workers.\n",
            "[Parallel(n_jobs=-1)]: Done   3 out of   6 | elapsed:    0.1s remaining:    0.1s\n",
            "[Parallel(n_jobs=-1)]: Done   6 out of   6 | elapsed:    0.1s finished\n",
            "\n",
            "[2021-10-02 12:38:18] Features: 51/56 -- score: -412.61014876350754[Parallel(n_jobs=-1)]: Using backend LokyBackend with 12 concurrent workers.\n",
            "[Parallel(n_jobs=-1)]: Done   3 out of   5 | elapsed:    0.1s remaining:    0.0s\n",
            "[Parallel(n_jobs=-1)]: Done   5 out of   5 | elapsed:    0.1s finished\n",
            "\n",
            "[2021-10-02 12:38:19] Features: 52/56 -- score: -412.6932615772984[Parallel(n_jobs=-1)]: Using backend LokyBackend with 12 concurrent workers.\n",
            "[Parallel(n_jobs=-1)]: Done   2 out of   4 | elapsed:    0.1s remaining:    0.1s\n",
            "[Parallel(n_jobs=-1)]: Done   4 out of   4 | elapsed:    0.1s finished\n",
            "\n",
            "[2021-10-02 12:38:19] Features: 53/56 -- score: -412.82576385570115[Parallel(n_jobs=-1)]: Using backend LokyBackend with 12 concurrent workers.\n",
            "[Parallel(n_jobs=-1)]: Done   3 out of   3 | elapsed:    0.0s finished\n",
            "\n",
            "[2021-10-02 12:38:19] Features: 54/56 -- score: -412.9945852055657[Parallel(n_jobs=-1)]: Using backend LokyBackend with 12 concurrent workers.\n",
            "[Parallel(n_jobs=-1)]: Done   2 out of   2 | elapsed:    0.0s finished\n",
            "\n",
            "[2021-10-02 12:38:19] Features: 55/56 -- score: -412.9945852055659[Parallel(n_jobs=-1)]: Using backend LokyBackend with 12 concurrent workers.\n",
            "[Parallel(n_jobs=-1)]: Done   1 out of   1 | elapsed:    0.0s finished\n",
            "\n",
            "[2021-10-02 12:38:20] Features: 56/56 -- score: -413.1320793447837"
          ]
        }
      ],
      "metadata": {}
    },
    {
      "cell_type": "code",
      "execution_count": 39,
      "source": [
        "# Save the feature selection results to the working directory\r\n",
        "sfs_lr_results.to_csv(\"sfs_lr_results.csv\")\r\n",
        "sfs_lasso_results.to_csv(\"sfs_lasso_results.csv\")\r\n",
        "sfs_ridge_results.to_csv(\"sfs_ridge_results.csv\")\r\n",
        "sfs_knn_results.to_csv(\"sfs_knn_results.csv\")\r\n",
        "sfs_tree_results.to_csv(\"sfs_tree_results.csv\")\r\n",
        "sfs_xgboost_results.to_csv(\"sfs_xgboost_results.csv\")"
      ],
      "outputs": [],
      "metadata": {}
    },
    {
      "cell_type": "code",
      "execution_count": 42,
      "source": [
        "# Import the feature selection results to the working directory \r\n",
        "sfs_lr_results = pd.read_csv(\"sfs_lr_results.csv\")\r\n",
        "sfs_lasso_results = pd.read_csv(\"sfs_lasso_results.csv\")\r\n",
        "sfs_ridge_results = pd.read_csv(\"sfs_ridge_results.csv\")\r\n",
        "sfs_knn_results = pd.read_csv(\"sfs_knn_results.csv\")\r\n",
        "sfs_tree_results = pd.read_csv(\"sfs_tree_results.csv\")\r\n",
        "sfs_xgboost_results = pd.read_csv(\"sfs_xgboost_results.csv\")"
      ],
      "outputs": [],
      "metadata": {}
    },
    {
      "cell_type": "code",
      "execution_count": 43,
      "source": [
        "# Combine the feature selection results together\r\n",
        "sfs_results = pd.DataFrame({\r\n",
        "    'num_of_features': range(1, X_train_atl.shape[1]+1),\r\n",
        "    'lr': sfs_lr_results['avg_score'],\r\n",
        "    'lasso': sfs_lasso_results['avg_score'],\r\n",
        "    'ridge': sfs_ridge_results['avg_score'],\r\n",
        "    'knn': sfs_knn_results['avg_score'],\r\n",
        "    'tree': sfs_tree_results['avg_score'],\r\n",
        "    'xgboost': sfs_xgboost_results['avg_score']\r\n",
        "})\r\n",
        "\r\n",
        "sfs_results = pd.melt(sfs_results, id_vars=['num_of_features'], var_name='models', value_name='MSE score')"
      ],
      "outputs": [],
      "metadata": {}
    },
    {
      "cell_type": "code",
      "execution_count": 44,
      "source": [
        "# Create a lineplot of the MSE score against the change of feature numbers\r\n",
        "plt.figure(figsize=(7, 15))\r\n",
        "sns.set_style(\"darkgrid\")\r\n",
        "sns.lineplot(data=sfs_results, x=\"num_of_features\", y=\"MSE score\", hue=\"models\");"
      ],
      "outputs": [
        {
          "output_type": "display_data",
          "data": {
            "image/png": "[encoded data removed]",
            "text/plain": [
              "<Figure size 504x1080 with 1 Axes>"
            ]
          },
          "metadata": {
            "needs_background": "light"
          }
        }
      ],
      "metadata": {}
    },
    {
      "cell_type": "code",
      "execution_count": 45,
      "source": [
        "# Save feature selection scores\r\n",
        "sfs_scores = [\r\n",
        "    sfs_lr_results['avg_score'].min(),\r\n",
        "    sfs_lasso_results['avg_score'].min(),\r\n",
        "    sfs_ridge_results['avg_score'].min(),\r\n",
        "    sfs_knn_results['avg_score'].min(),\r\n",
        "    sfs_tree_results['avg_score'].min(),\r\n",
        "    sfs_xgboost_results['avg_score'].min()]\r\n",
        "sfs_scores = [round(score, 2) for score in sfs_scores]"
      ],
      "outputs": [],
      "metadata": {}
    },
    {
      "cell_type": "code",
      "execution_count": 46,
      "source": [
        "# Create a function for subsetting data with selected features\r\n",
        "def train_data_select(sfs, train_data):\r\n",
        "    pd.options.display.max_colwidth = 1000\r\n",
        "    features_model = sfs.sort_values('avg_score')[:1]['feature_idx'].to_string()\r\n",
        "    features_model = [int(i) for i in features_model[7:-1].split(',')]\r\n",
        "    if isinstance(train_data, pd.DataFrame):\r\n",
        "        return(train_data.iloc[:, features_model])\r\n",
        "    else:\r\n",
        "        train_data = pd.DataFrame(train_data)\r\n",
        "        return(train_data.iloc[:, features_model])"
      ],
      "outputs": [],
      "metadata": {}
    },
    {
      "cell_type": "code",
      "execution_count": 47,
      "source": [
        "# Apply the function to different models\r\n",
        "# Use standardized data for knn\r\n",
        "X_train_atl_lr = train_data_select(sfs_lr_results, X_train_atl)\r\n",
        "X_train_atl_lasso = train_data_select(sfs_lasso_results, X_train_atl)\r\n",
        "X_train_atl_ridge = train_data_select(sfs_ridge_results, X_train_atl)\r\n",
        "X_train_atl_tree = train_data_select(sfs_tree_results, X_train_atl)\r\n",
        "X_train_atl_xgboost = train_data_select(sfs_xgboost_results, X_train_atl)\r\n",
        "\r\n",
        "X_train_atl_knn = train_data_select(sfs_knn_results, X_train_atl_sc)\r\n",
        "X_train_atl_lr_sc = train_data_select(sfs_lr_results, X_train_atl_sc)"
      ],
      "outputs": [],
      "metadata": {}
    },
    {
      "cell_type": "markdown",
      "source": [
        "# Hyperparameter Tuning"
      ],
      "metadata": {}
    },
    {
      "cell_type": "code",
      "execution_count": 48,
      "source": [
        "# Hyperparameter tuning for Lasso\r\n",
        "lasso_gs = GridSearchCV(\r\n",
        "    estimator=lasso, \r\n",
        "    param_grid=[{\r\n",
        "        'alpha': [0.001, 0.01, 0.1, 1]\r\n",
        "        }],\r\n",
        "    scoring='neg_mean_squared_error',\r\n",
        "    cv=cv,\r\n",
        "    n_jobs=-1)\r\n",
        "\r\n",
        "lasso_gs = lasso_gs.fit(X_train_atl_lasso, y_train_atl)\r\n",
        "\r\n",
        "print(\"MSE Score: \", round(-lasso_gs.best_score_, 2))\r\n",
        "print(\"Optimal Parameter: \", lasso_gs.best_params_)"
      ],
      "outputs": [
        {
          "output_type": "stream",
          "name": "stdout",
          "text": [
            "MSE Score:  422.89\n",
            "Optimal Parameter:  {'alpha': 0.001}\n"
          ]
        }
      ],
      "metadata": {}
    },
    {
      "cell_type": "code",
      "execution_count": 50,
      "source": [
        "# Hyperparameter tuning for Ridge\r\n",
        "ridge_gs = GridSearchCV(\r\n",
        "    estimator=ridge, \r\n",
        "    param_grid=[{\r\n",
        "        'alpha': [0.001, 0.01, 0.1, 1]\r\n",
        "        }],\r\n",
        "    scoring='neg_mean_squared_error',\r\n",
        "    cv=cv,\r\n",
        "    n_jobs=-1)\r\n",
        "\r\n",
        "ridge_gs = ridge_gs.fit(X_train_atl_ridge, y_train_atl)\r\n",
        "\r\n",
        "print(\"MSE Score: \", round(-ridge_gs.best_score_, 2))\r\n",
        "print(\"Optimal Parameter: \", ridge_gs.best_params_)"
      ],
      "outputs": [
        {
          "output_type": "stream",
          "name": "stdout",
          "text": [
            "MSE Score:  412.27\n",
            "Optimal Parameter:  {'alpha': 0.001}\n"
          ]
        }
      ],
      "metadata": {}
    },
    {
      "cell_type": "code",
      "execution_count": 51,
      "source": [
        "# Hyperparameter tuning for KNN\r\n",
        "knn_gs = GridSearchCV(\r\n",
        "    estimator=knn, \r\n",
        "    param_grid=[{\r\n",
        "        'n_neighbors': [25, 35, 45, 55, 65]\r\n",
        "        }],\r\n",
        "    scoring='neg_mean_squared_error',\r\n",
        "    cv=cv,\r\n",
        "    n_jobs=-1)\r\n",
        "\r\n",
        "knn_gs = knn_gs.fit(X_train_atl_knn, y_train_atl)\r\n",
        "\r\n",
        "print(\"MSE Score: \", round(-knn_gs.best_score_, 2))\r\n",
        "print(\"Optimal Parameter: \", knn_gs.best_params_)"
      ],
      "outputs": [
        {
          "output_type": "stream",
          "name": "stdout",
          "text": [
            "MSE Score:  421.24\n",
            "Optimal Parameter:  {'n_neighbors': 45}\n"
          ]
        }
      ],
      "metadata": {}
    },
    {
      "cell_type": "code",
      "execution_count": 52,
      "source": [
        "# Hyperparameter tuning for Tree\r\n",
        "tree_gs = GridSearchCV(\r\n",
        "    estimator=tree, \r\n",
        "    param_grid=[{\r\n",
        "        \"max_depth\": [10, 15, 25],\r\n",
        "        'min_samples_leaf': [1, 3, 5],\r\n",
        "        'min_impurity_decrease': [0.001, 0.005, 0.01]\r\n",
        "        }],\r\n",
        "    scoring='neg_mean_squared_error',\r\n",
        "    cv=cv,\r\n",
        "    n_jobs=-1)\r\n",
        "\r\n",
        "tree_gs = tree_gs.fit(X_train_atl_tree, y_train_atl)\r\n",
        "\r\n",
        "print(\"MSE Score: \", round(-tree_gs.best_score_, 2))\r\n",
        "print(\"Optimal Parameter: \", tree_gs.best_params_)"
      ],
      "outputs": [
        {
          "output_type": "stream",
          "name": "stdout",
          "text": [
            "MSE Score:  410.47\n",
            "Optimal Parameter:  {'max_depth': 15, 'min_impurity_decrease': 0.005, 'min_samples_leaf': 3}\n"
          ]
        }
      ],
      "metadata": {}
    },
    {
      "cell_type": "code",
      "execution_count": 53,
      "source": [
        "# Hyperparameter tuning for xgboost\r\n",
        "xgboost_gs = GridSearchCV(\r\n",
        "    estimator=xgboost, \r\n",
        "    param_grid=[{\r\n",
        "        \"max_depth\": [5, 10, 15],\r\n",
        "        'n_estimators': [20, 25, 30],\r\n",
        "        'learning_rate': [0.05, 0.1, 0.15]\r\n",
        "        }],\r\n",
        "    scoring='neg_mean_squared_error',\r\n",
        "    cv=cv,\r\n",
        "    n_jobs=-1)\r\n",
        "\r\n",
        "xgboost_gs = xgboost_gs.fit(X_train_atl_xgboost, y_train_atl)\r\n",
        "\r\n",
        "print(\"MSE Score: \", round(-xgboost_gs.best_score_, 2))\r\n",
        "print(\"Optimal Parameter: \", xgboost_gs.best_params_)"
      ],
      "outputs": [
        {
          "output_type": "stream",
          "name": "stdout",
          "text": [
            "MSE Score:  396.49\n",
            "Optimal Parameter:  {'learning_rate': 0.1, 'max_depth': 10, 'n_estimators': 25}\n"
          ]
        }
      ],
      "metadata": {}
    },
    {
      "cell_type": "code",
      "execution_count": 54,
      "source": [
        "# Save hyperparameter tuning scores\r\n",
        "gs_scores = [\r\n",
        "    sfs_scores[0],\r\n",
        "    -lasso_gs.best_score_,\r\n",
        "    -ridge_gs.best_score_,\r\n",
        "    -knn_gs.best_score_,\r\n",
        "    -tree_gs.best_score_,\r\n",
        "    -xgboost_gs.best_score_,\r\n",
        "]\r\n",
        "\r\n",
        "gs_scores = [round(score, 2) for score in gs_scores]"
      ],
      "outputs": [],
      "metadata": {}
    },
    {
      "cell_type": "markdown",
      "source": [
        "# Improvement of performance"
      ],
      "metadata": {}
    },
    {
      "cell_type": "code",
      "execution_count": 55,
      "source": [
        "# Model scores with steps above\r\n",
        "score_results = pd.DataFrame({\r\n",
        "    'models': model_list, \r\n",
        "    'base_model': model_1_scores_results['score'],\r\n",
        "    'feature_engineering': model_2_scores_results['score'],\r\n",
        "    'weather_data': model_3_scores_results['score'],\r\n",
        "    'standardization': model_4_scores_results['score'],\r\n",
        "    'feature_selection': sfs_scores,\r\n",
        "    'hyperparameter_tuning': gs_scores\r\n",
        "    }\r\n",
        ")\r\n",
        "\r\n",
        "score_results_melt = pd.melt(\r\n",
        "    score_results, id_vars=['models'], \r\n",
        "    var_name='steps', value_name='MSE score')"
      ],
      "outputs": [],
      "metadata": {}
    },
    {
      "cell_type": "code",
      "execution_count": 56,
      "source": [
        "score_results"
      ],
      "outputs": [
        {
          "output_type": "execute_result",
          "data": {
            "text/html": [
              "<div>\n",
              "<style scoped>\n",
              "    .dataframe tbody tr th:only-of-type {\n",
              "        vertical-align: middle;\n",
              "    }\n",
              "\n",
              "    .dataframe tbody tr th {\n",
              "        vertical-align: top;\n",
              "    }\n",
              "\n",
              "    .dataframe thead th {\n",
              "        text-align: right;\n",
              "    }\n",
              "</style>\n",
              "<table border=\"1\" class=\"dataframe\">\n",
              "  <thead>\n",
              "    <tr style=\"text-align: right;\">\n",
              "      <th></th>\n",
              "      <th>models</th>\n",
              "      <th>base_model</th>\n",
              "      <th>feature_engineering</th>\n",
              "      <th>weather_data</th>\n",
              "      <th>standardization</th>\n",
              "      <th>feature_selection</th>\n",
              "      <th>hyperparameter_tuning</th>\n",
              "    </tr>\n",
              "  </thead>\n",
              "  <tbody>\n",
              "    <tr>\n",
              "      <th>0</th>\n",
              "      <td>lr</td>\n",
              "      <td>445.75</td>\n",
              "      <td>440.29</td>\n",
              "      <td>413.13</td>\n",
              "      <td>413.09</td>\n",
              "      <td>412.27</td>\n",
              "      <td>412.27</td>\n",
              "    </tr>\n",
              "    <tr>\n",
              "      <th>1</th>\n",
              "      <td>lasso</td>\n",
              "      <td>453.87</td>\n",
              "      <td>454.47</td>\n",
              "      <td>437.61</td>\n",
              "      <td>431.04</td>\n",
              "      <td>437.57</td>\n",
              "      <td>422.89</td>\n",
              "    </tr>\n",
              "    <tr>\n",
              "      <th>2</th>\n",
              "      <td>ridge</td>\n",
              "      <td>445.75</td>\n",
              "      <td>440.28</td>\n",
              "      <td>413.14</td>\n",
              "      <td>413.13</td>\n",
              "      <td>412.27</td>\n",
              "      <td>412.27</td>\n",
              "    </tr>\n",
              "    <tr>\n",
              "      <th>3</th>\n",
              "      <td>knn</td>\n",
              "      <td>529.15</td>\n",
              "      <td>529.60</td>\n",
              "      <td>508.22</td>\n",
              "      <td>465.32</td>\n",
              "      <td>450.34</td>\n",
              "      <td>421.24</td>\n",
              "    </tr>\n",
              "    <tr>\n",
              "      <th>4</th>\n",
              "      <td>tree</td>\n",
              "      <td>530.92</td>\n",
              "      <td>927.21</td>\n",
              "      <td>823.09</td>\n",
              "      <td>822.12</td>\n",
              "      <td>410.73</td>\n",
              "      <td>410.47</td>\n",
              "    </tr>\n",
              "    <tr>\n",
              "      <th>5</th>\n",
              "      <td>xgboost</td>\n",
              "      <td>471.62</td>\n",
              "      <td>488.10</td>\n",
              "      <td>422.76</td>\n",
              "      <td>422.84</td>\n",
              "      <td>405.17</td>\n",
              "      <td>396.49</td>\n",
              "    </tr>\n",
              "  </tbody>\n",
              "</table>\n",
              "</div>"
            ],
            "text/plain": [
              "    models  base_model  feature_engineering  weather_data  standardization  \\\n",
              "0       lr      445.75               440.29        413.13           413.09   \n",
              "1    lasso      453.87               454.47        437.61           431.04   \n",
              "2    ridge      445.75               440.28        413.14           413.13   \n",
              "3      knn      529.15               529.60        508.22           465.32   \n",
              "4     tree      530.92               927.21        823.09           822.12   \n",
              "5  xgboost      471.62               488.10        422.76           422.84   \n",
              "\n",
              "   feature_selection  hyperparameter_tuning  \n",
              "0             412.27                 412.27  \n",
              "1             437.57                 422.89  \n",
              "2             412.27                 412.27  \n",
              "3             450.34                 421.24  \n",
              "4             410.73                 410.47  \n",
              "5             405.17                 396.49  "
            ]
          },
          "metadata": {},
          "execution_count": 56
        }
      ],
      "metadata": {}
    },
    {
      "cell_type": "code",
      "execution_count": 57,
      "source": [
        "# Visulization the change of MSE scores\r\n",
        "plt.figure(figsize=(7, 15))\r\n",
        "sns.lineplot(data=score_results_melt, x=\"steps\", y=\"MSE score\", hue=\"models\")\r\n",
        "plt.xticks(rotation=-45);"
      ],
      "outputs": [
        {
          "output_type": "display_data",
          "data": {
            "image/png": "[encoded data removed]",
            "text/plain": [
              "<Figure size 504x1080 with 1 Axes>"
            ]
          },
          "metadata": {}
        }
      ],
      "metadata": {}
    },
    {
      "cell_type": "markdown",
      "source": [
        "# Best Model"
      ],
      "metadata": {}
    },
    {
      "cell_type": "code",
      "execution_count": 68,
      "source": [
        "# The best model based on hyperparameter tuning\r\n",
        "best_model = xgb.XGBRegressor(\r\n",
        "    objective=\"reg:squarederror\", \r\n",
        "    max_depth=10, n_estimators=25, learning_rate=0.1,\r\n",
        "    random_state=42, n_jobs=-1)"
      ],
      "outputs": [],
      "metadata": {}
    },
    {
      "cell_type": "code",
      "execution_count": 31,
      "source": [
        "# Features of importance, Xgboost\r\n",
        "best_model = best_model.fit(X_train_atl_xgboost, y_train_atl)\r\n",
        "X_train_atl_xgboost.columns[np.argsort(best_model.feature_importances_)[::-1]]"
      ],
      "outputs": [
        {
          "output_type": "execute_result",
          "data": {
            "text/plain": [
              "Index(['PRCP', 'TMIN', 'WT03', 'DEP_TIME_BLK_0800-0859', 'TAVG',\n",
              "       'DEP_TIME_BLK_0900-0959', 'DEP_TIME_BLK_0600-0659',\n",
              "       'DEP_TIME_BLK_1100-1159', 'DEP_TIME_BLK_1000-1059', 'WT08', 'MONTH_9',\n",
              "       'MONTH_8'],\n",
              "      dtype='object')"
            ]
          },
          "metadata": {},
          "execution_count": 31
        }
      ],
      "metadata": {}
    },
    {
      "cell_type": "code",
      "execution_count": 124,
      "source": [
        "# Features of importance, Ridge\r\n",
        "best_model_linear = Ridge(alpha=0.001)\r\n",
        "best_model_linear = best_model_linear.fit(X_train_atl, y_train_atl)\r\n",
        "coefs = pd.DataFrame({'feature': X_train_atl.columns, 'coef': best_model_linear.coef_})\r\n",
        "coefs['coef_abs'] = np.abs(coefs['coef'])\r\n",
        "coefs.sort_values('coef_abs', ascending=False)[:25]"
      ],
      "outputs": [
        {
          "output_type": "execute_result",
          "data": {
            "text/html": [
              "<div>\n",
              "<style scoped>\n",
              "    .dataframe tbody tr th:only-of-type {\n",
              "        vertical-align: middle;\n",
              "    }\n",
              "\n",
              "    .dataframe tbody tr th {\n",
              "        vertical-align: top;\n",
              "    }\n",
              "\n",
              "    .dataframe thead th {\n",
              "        text-align: right;\n",
              "    }\n",
              "</style>\n",
              "<table border=\"1\" class=\"dataframe\">\n",
              "  <thead>\n",
              "    <tr style=\"text-align: right;\">\n",
              "      <th></th>\n",
              "      <th>feature</th>\n",
              "      <th>coef</th>\n",
              "      <th>coef_abs</th>\n",
              "    </tr>\n",
              "  </thead>\n",
              "  <tbody>\n",
              "    <tr>\n",
              "      <th>6</th>\n",
              "      <td>SNOW</td>\n",
              "      <td>28.178718</td>\n",
              "      <td>28.178718</td>\n",
              "    </tr>\n",
              "    <tr>\n",
              "      <th>17</th>\n",
              "      <td>WT05</td>\n",
              "      <td>-9.632178</td>\n",
              "      <td>9.632178</td>\n",
              "    </tr>\n",
              "    <tr>\n",
              "      <th>38</th>\n",
              "      <td>DEP_TIME_BLK_0600-0659</td>\n",
              "      <td>-6.229023</td>\n",
              "      <td>6.229023</td>\n",
              "    </tr>\n",
              "    <tr>\n",
              "      <th>7</th>\n",
              "      <td>SNWD</td>\n",
              "      <td>5.864433</td>\n",
              "      <td>5.864433</td>\n",
              "    </tr>\n",
              "    <tr>\n",
              "      <th>27</th>\n",
              "      <td>MONTH_6</td>\n",
              "      <td>5.710797</td>\n",
              "      <td>5.710797</td>\n",
              "    </tr>\n",
              "    <tr>\n",
              "      <th>28</th>\n",
              "      <td>MONTH_7</td>\n",
              "      <td>5.568853</td>\n",
              "      <td>5.568853</td>\n",
              "    </tr>\n",
              "    <tr>\n",
              "      <th>5</th>\n",
              "      <td>PRCP</td>\n",
              "      <td>5.333399</td>\n",
              "      <td>5.333399</td>\n",
              "    </tr>\n",
              "    <tr>\n",
              "      <th>40</th>\n",
              "      <td>DEP_TIME_BLK_0800-0859</td>\n",
              "      <td>-5.323246</td>\n",
              "      <td>5.323246</td>\n",
              "    </tr>\n",
              "    <tr>\n",
              "      <th>39</th>\n",
              "      <td>DEP_TIME_BLK_0700-0759</td>\n",
              "      <td>-4.608944</td>\n",
              "      <td>4.608944</td>\n",
              "    </tr>\n",
              "    <tr>\n",
              "      <th>55</th>\n",
              "      <td>DEP_TIME_BLK_2300-2359</td>\n",
              "      <td>4.500959</td>\n",
              "      <td>4.500959</td>\n",
              "    </tr>\n",
              "    <tr>\n",
              "      <th>22</th>\n",
              "      <td>MONTH_12</td>\n",
              "      <td>-4.178880</td>\n",
              "      <td>4.178880</td>\n",
              "    </tr>\n",
              "    <tr>\n",
              "      <th>52</th>\n",
              "      <td>DEP_TIME_BLK_2000-2059</td>\n",
              "      <td>4.071744</td>\n",
              "      <td>4.071744</td>\n",
              "    </tr>\n",
              "    <tr>\n",
              "      <th>41</th>\n",
              "      <td>DEP_TIME_BLK_0900-0959</td>\n",
              "      <td>-3.829588</td>\n",
              "      <td>3.829588</td>\n",
              "    </tr>\n",
              "    <tr>\n",
              "      <th>50</th>\n",
              "      <td>DEP_TIME_BLK_1800-1859</td>\n",
              "      <td>3.511236</td>\n",
              "      <td>3.511236</td>\n",
              "    </tr>\n",
              "    <tr>\n",
              "      <th>51</th>\n",
              "      <td>DEP_TIME_BLK_1900-1959</td>\n",
              "      <td>3.461614</td>\n",
              "      <td>3.461614</td>\n",
              "    </tr>\n",
              "    <tr>\n",
              "      <th>21</th>\n",
              "      <td>MONTH_11</td>\n",
              "      <td>-3.257609</td>\n",
              "      <td>3.257609</td>\n",
              "    </tr>\n",
              "    <tr>\n",
              "      <th>53</th>\n",
              "      <td>DEP_TIME_BLK_2100-2159</td>\n",
              "      <td>3.182030</td>\n",
              "      <td>3.182030</td>\n",
              "    </tr>\n",
              "    <tr>\n",
              "      <th>19</th>\n",
              "      <td>MONTH_1</td>\n",
              "      <td>-3.161160</td>\n",
              "      <td>3.161160</td>\n",
              "    </tr>\n",
              "    <tr>\n",
              "      <th>42</th>\n",
              "      <td>DEP_TIME_BLK_1000-1059</td>\n",
              "      <td>-3.125423</td>\n",
              "      <td>3.125423</td>\n",
              "    </tr>\n",
              "    <tr>\n",
              "      <th>54</th>\n",
              "      <td>DEP_TIME_BLK_2200-2259</td>\n",
              "      <td>3.105944</td>\n",
              "      <td>3.105944</td>\n",
              "    </tr>\n",
              "    <tr>\n",
              "      <th>14</th>\n",
              "      <td>WT02</td>\n",
              "      <td>2.382917</td>\n",
              "      <td>2.382917</td>\n",
              "    </tr>\n",
              "    <tr>\n",
              "      <th>43</th>\n",
              "      <td>DEP_TIME_BLK_1100-1159</td>\n",
              "      <td>-2.293660</td>\n",
              "      <td>2.293660</td>\n",
              "    </tr>\n",
              "    <tr>\n",
              "      <th>29</th>\n",
              "      <td>MONTH_8</td>\n",
              "      <td>2.281013</td>\n",
              "      <td>2.281013</td>\n",
              "    </tr>\n",
              "    <tr>\n",
              "      <th>24</th>\n",
              "      <td>MONTH_3</td>\n",
              "      <td>-2.207379</td>\n",
              "      <td>2.207379</td>\n",
              "    </tr>\n",
              "    <tr>\n",
              "      <th>48</th>\n",
              "      <td>DEP_TIME_BLK_1600-1659</td>\n",
              "      <td>2.174336</td>\n",
              "      <td>2.174336</td>\n",
              "    </tr>\n",
              "  </tbody>\n",
              "</table>\n",
              "</div>"
            ],
            "text/plain": [
              "                   feature       coef   coef_abs\n",
              "6                     SNOW  28.178718  28.178718\n",
              "17                    WT05  -9.632178   9.632178\n",
              "38  DEP_TIME_BLK_0600-0659  -6.229023   6.229023\n",
              "7                     SNWD   5.864433   5.864433\n",
              "27                 MONTH_6   5.710797   5.710797\n",
              "28                 MONTH_7   5.568853   5.568853\n",
              "5                     PRCP   5.333399   5.333399\n",
              "40  DEP_TIME_BLK_0800-0859  -5.323246   5.323246\n",
              "39  DEP_TIME_BLK_0700-0759  -4.608944   4.608944\n",
              "55  DEP_TIME_BLK_2300-2359   4.500959   4.500959\n",
              "22                MONTH_12  -4.178880   4.178880\n",
              "52  DEP_TIME_BLK_2000-2059   4.071744   4.071744\n",
              "41  DEP_TIME_BLK_0900-0959  -3.829588   3.829588\n",
              "50  DEP_TIME_BLK_1800-1859   3.511236   3.511236\n",
              "51  DEP_TIME_BLK_1900-1959   3.461614   3.461614\n",
              "21                MONTH_11  -3.257609   3.257609\n",
              "53  DEP_TIME_BLK_2100-2159   3.182030   3.182030\n",
              "19                 MONTH_1  -3.161160   3.161160\n",
              "42  DEP_TIME_BLK_1000-1059  -3.125423   3.125423\n",
              "54  DEP_TIME_BLK_2200-2259   3.105944   3.105944\n",
              "14                    WT02   2.382917   2.382917\n",
              "43  DEP_TIME_BLK_1100-1159  -2.293660   2.293660\n",
              "29                 MONTH_8   2.281013   2.281013\n",
              "24                 MONTH_3  -2.207379   2.207379\n",
              "48  DEP_TIME_BLK_1600-1659   2.174336   2.174336"
            ]
          },
          "metadata": {},
          "execution_count": 124
        }
      ],
      "metadata": {}
    },
    {
      "cell_type": "code",
      "execution_count": 125,
      "source": [
        "# Features of importance, Ridge\r\n",
        "best_model_linear = Ridge(alpha=0.001)\r\n",
        "best_model_linear = best_model_linear.fit(X_train_atl, y_train_atl)\r\n",
        "coefs = pd.DataFrame({'feature': X_train_atl.columns, 'coef': best_model_linear.coef_})\r\n",
        "coefs[coefs['coef']>0].sort_values('coef', ascending=False)"
      ],
      "outputs": [
        {
          "output_type": "execute_result",
          "data": {
            "text/html": [
              "<div>\n",
              "<style scoped>\n",
              "    .dataframe tbody tr th:only-of-type {\n",
              "        vertical-align: middle;\n",
              "    }\n",
              "\n",
              "    .dataframe tbody tr th {\n",
              "        vertical-align: top;\n",
              "    }\n",
              "\n",
              "    .dataframe thead th {\n",
              "        text-align: right;\n",
              "    }\n",
              "</style>\n",
              "<table border=\"1\" class=\"dataframe\">\n",
              "  <thead>\n",
              "    <tr style=\"text-align: right;\">\n",
              "      <th></th>\n",
              "      <th>feature</th>\n",
              "      <th>coef</th>\n",
              "    </tr>\n",
              "  </thead>\n",
              "  <tbody>\n",
              "    <tr>\n",
              "      <th>6</th>\n",
              "      <td>SNOW</td>\n",
              "      <td>28.178718</td>\n",
              "    </tr>\n",
              "    <tr>\n",
              "      <th>7</th>\n",
              "      <td>SNWD</td>\n",
              "      <td>5.864433</td>\n",
              "    </tr>\n",
              "    <tr>\n",
              "      <th>27</th>\n",
              "      <td>MONTH_6</td>\n",
              "      <td>5.710797</td>\n",
              "    </tr>\n",
              "    <tr>\n",
              "      <th>28</th>\n",
              "      <td>MONTH_7</td>\n",
              "      <td>5.568853</td>\n",
              "    </tr>\n",
              "    <tr>\n",
              "      <th>5</th>\n",
              "      <td>PRCP</td>\n",
              "      <td>5.333399</td>\n",
              "    </tr>\n",
              "    <tr>\n",
              "      <th>55</th>\n",
              "      <td>DEP_TIME_BLK_2300-2359</td>\n",
              "      <td>4.500959</td>\n",
              "    </tr>\n",
              "    <tr>\n",
              "      <th>52</th>\n",
              "      <td>DEP_TIME_BLK_2000-2059</td>\n",
              "      <td>4.071744</td>\n",
              "    </tr>\n",
              "    <tr>\n",
              "      <th>50</th>\n",
              "      <td>DEP_TIME_BLK_1800-1859</td>\n",
              "      <td>3.511236</td>\n",
              "    </tr>\n",
              "    <tr>\n",
              "      <th>51</th>\n",
              "      <td>DEP_TIME_BLK_1900-1959</td>\n",
              "      <td>3.461614</td>\n",
              "    </tr>\n",
              "    <tr>\n",
              "      <th>53</th>\n",
              "      <td>DEP_TIME_BLK_2100-2159</td>\n",
              "      <td>3.182030</td>\n",
              "    </tr>\n",
              "    <tr>\n",
              "      <th>54</th>\n",
              "      <td>DEP_TIME_BLK_2200-2259</td>\n",
              "      <td>3.105944</td>\n",
              "    </tr>\n",
              "    <tr>\n",
              "      <th>14</th>\n",
              "      <td>WT02</td>\n",
              "      <td>2.382917</td>\n",
              "    </tr>\n",
              "    <tr>\n",
              "      <th>29</th>\n",
              "      <td>MONTH_8</td>\n",
              "      <td>2.281013</td>\n",
              "    </tr>\n",
              "    <tr>\n",
              "      <th>48</th>\n",
              "      <td>DEP_TIME_BLK_1600-1659</td>\n",
              "      <td>2.174336</td>\n",
              "    </tr>\n",
              "    <tr>\n",
              "      <th>49</th>\n",
              "      <td>DEP_TIME_BLK_1700-1759</td>\n",
              "      <td>2.158095</td>\n",
              "    </tr>\n",
              "    <tr>\n",
              "      <th>35</th>\n",
              "      <td>DAY_OF_WEEK_4</td>\n",
              "      <td>2.121016</td>\n",
              "    </tr>\n",
              "    <tr>\n",
              "      <th>26</th>\n",
              "      <td>MONTH_5</td>\n",
              "      <td>2.026362</td>\n",
              "    </tr>\n",
              "    <tr>\n",
              "      <th>13</th>\n",
              "      <td>WT01</td>\n",
              "      <td>2.006037</td>\n",
              "    </tr>\n",
              "    <tr>\n",
              "      <th>15</th>\n",
              "      <td>WT03</td>\n",
              "      <td>1.594973</td>\n",
              "    </tr>\n",
              "    <tr>\n",
              "      <th>30</th>\n",
              "      <td>MONTH_9</td>\n",
              "      <td>1.565881</td>\n",
              "    </tr>\n",
              "    <tr>\n",
              "      <th>47</th>\n",
              "      <td>DEP_TIME_BLK_1500-1559</td>\n",
              "      <td>1.331608</td>\n",
              "    </tr>\n",
              "    <tr>\n",
              "      <th>34</th>\n",
              "      <td>DAY_OF_WEEK_3</td>\n",
              "      <td>1.089505</td>\n",
              "    </tr>\n",
              "    <tr>\n",
              "      <th>12</th>\n",
              "      <td>WSF5</td>\n",
              "      <td>0.340622</td>\n",
              "    </tr>\n",
              "    <tr>\n",
              "      <th>46</th>\n",
              "      <td>DEP_TIME_BLK_1400-1459</td>\n",
              "      <td>0.327698</td>\n",
              "    </tr>\n",
              "    <tr>\n",
              "      <th>11</th>\n",
              "      <td>WSF2</td>\n",
              "      <td>0.165778</td>\n",
              "    </tr>\n",
              "    <tr>\n",
              "      <th>8</th>\n",
              "      <td>TAVG</td>\n",
              "      <td>0.130413</td>\n",
              "    </tr>\n",
              "    <tr>\n",
              "      <th>18</th>\n",
              "      <td>WT08</td>\n",
              "      <td>0.104481</td>\n",
              "    </tr>\n",
              "    <tr>\n",
              "      <th>1</th>\n",
              "      <td>NUMBER_OF_SEATS</td>\n",
              "      <td>0.026207</td>\n",
              "    </tr>\n",
              "    <tr>\n",
              "      <th>2</th>\n",
              "      <td>PLANE_AGE</td>\n",
              "      <td>0.021563</td>\n",
              "    </tr>\n",
              "    <tr>\n",
              "      <th>0</th>\n",
              "      <td>CRS_ELAPSED_TIME</td>\n",
              "      <td>0.014462</td>\n",
              "    </tr>\n",
              "  </tbody>\n",
              "</table>\n",
              "</div>"
            ],
            "text/plain": [
              "                   feature       coef\n",
              "6                     SNOW  28.178718\n",
              "7                     SNWD   5.864433\n",
              "27                 MONTH_6   5.710797\n",
              "28                 MONTH_7   5.568853\n",
              "5                     PRCP   5.333399\n",
              "55  DEP_TIME_BLK_2300-2359   4.500959\n",
              "52  DEP_TIME_BLK_2000-2059   4.071744\n",
              "50  DEP_TIME_BLK_1800-1859   3.511236\n",
              "51  DEP_TIME_BLK_1900-1959   3.461614\n",
              "53  DEP_TIME_BLK_2100-2159   3.182030\n",
              "54  DEP_TIME_BLK_2200-2259   3.105944\n",
              "14                    WT02   2.382917\n",
              "29                 MONTH_8   2.281013\n",
              "48  DEP_TIME_BLK_1600-1659   2.174336\n",
              "49  DEP_TIME_BLK_1700-1759   2.158095\n",
              "35           DAY_OF_WEEK_4   2.121016\n",
              "26                 MONTH_5   2.026362\n",
              "13                    WT01   2.006037\n",
              "15                    WT03   1.594973\n",
              "30                 MONTH_9   1.565881\n",
              "47  DEP_TIME_BLK_1500-1559   1.331608\n",
              "34           DAY_OF_WEEK_3   1.089505\n",
              "12                    WSF5   0.340622\n",
              "46  DEP_TIME_BLK_1400-1459   0.327698\n",
              "11                    WSF2   0.165778\n",
              "8                     TAVG   0.130413\n",
              "18                    WT08   0.104481\n",
              "1          NUMBER_OF_SEATS   0.026207\n",
              "2                PLANE_AGE   0.021563\n",
              "0         CRS_ELAPSED_TIME   0.014462"
            ]
          },
          "metadata": {},
          "execution_count": 125
        }
      ],
      "metadata": {}
    },
    {
      "cell_type": "code",
      "execution_count": 126,
      "source": [
        "coefs[coefs['coef']<0].sort_values('coef', ascending=False)"
      ],
      "outputs": [
        {
          "output_type": "execute_result",
          "data": {
            "text/html": [
              "<div>\n",
              "<style scoped>\n",
              "    .dataframe tbody tr th:only-of-type {\n",
              "        vertical-align: middle;\n",
              "    }\n",
              "\n",
              "    .dataframe tbody tr th {\n",
              "        vertical-align: top;\n",
              "    }\n",
              "\n",
              "    .dataframe thead th {\n",
              "        text-align: right;\n",
              "    }\n",
              "</style>\n",
              "<table border=\"1\" class=\"dataframe\">\n",
              "  <thead>\n",
              "    <tr style=\"text-align: right;\">\n",
              "      <th></th>\n",
              "      <th>feature</th>\n",
              "      <th>coef</th>\n",
              "    </tr>\n",
              "  </thead>\n",
              "  <tbody>\n",
              "    <tr>\n",
              "      <th>10</th>\n",
              "      <td>TMIN</td>\n",
              "      <td>-0.024056</td>\n",
              "    </tr>\n",
              "    <tr>\n",
              "      <th>3</th>\n",
              "      <td>FLIGHT_BLK_NUM</td>\n",
              "      <td>-0.064203</td>\n",
              "    </tr>\n",
              "    <tr>\n",
              "      <th>31</th>\n",
              "      <td>DAY_OF_WEEK_0</td>\n",
              "      <td>-0.196270</td>\n",
              "    </tr>\n",
              "    <tr>\n",
              "      <th>9</th>\n",
              "      <td>TMAX</td>\n",
              "      <td>-0.240693</td>\n",
              "    </tr>\n",
              "    <tr>\n",
              "      <th>45</th>\n",
              "      <td>DEP_TIME_BLK_1300-1359</td>\n",
              "      <td>-0.609789</td>\n",
              "    </tr>\n",
              "    <tr>\n",
              "      <th>32</th>\n",
              "      <td>DAY_OF_WEEK_1</td>\n",
              "      <td>-0.654097</td>\n",
              "    </tr>\n",
              "    <tr>\n",
              "      <th>37</th>\n",
              "      <td>DAY_OF_WEEK_6</td>\n",
              "      <td>-0.708070</td>\n",
              "    </tr>\n",
              "    <tr>\n",
              "      <th>4</th>\n",
              "      <td>AWND</td>\n",
              "      <td>-0.756959</td>\n",
              "    </tr>\n",
              "    <tr>\n",
              "      <th>36</th>\n",
              "      <td>DAY_OF_WEEK_5</td>\n",
              "      <td>-0.758537</td>\n",
              "    </tr>\n",
              "    <tr>\n",
              "      <th>33</th>\n",
              "      <td>DAY_OF_WEEK_2</td>\n",
              "      <td>-0.893547</td>\n",
              "    </tr>\n",
              "    <tr>\n",
              "      <th>20</th>\n",
              "      <td>MONTH_10</td>\n",
              "      <td>-1.034793</td>\n",
              "    </tr>\n",
              "    <tr>\n",
              "      <th>25</th>\n",
              "      <td>MONTH_4</td>\n",
              "      <td>-1.400946</td>\n",
              "    </tr>\n",
              "    <tr>\n",
              "      <th>44</th>\n",
              "      <td>DEP_TIME_BLK_1200-1259</td>\n",
              "      <td>-1.805592</td>\n",
              "    </tr>\n",
              "    <tr>\n",
              "      <th>23</th>\n",
              "      <td>MONTH_2</td>\n",
              "      <td>-1.912137</td>\n",
              "    </tr>\n",
              "    <tr>\n",
              "      <th>24</th>\n",
              "      <td>MONTH_3</td>\n",
              "      <td>-2.207379</td>\n",
              "    </tr>\n",
              "    <tr>\n",
              "      <th>43</th>\n",
              "      <td>DEP_TIME_BLK_1100-1159</td>\n",
              "      <td>-2.293660</td>\n",
              "    </tr>\n",
              "    <tr>\n",
              "      <th>42</th>\n",
              "      <td>DEP_TIME_BLK_1000-1059</td>\n",
              "      <td>-3.125423</td>\n",
              "    </tr>\n",
              "    <tr>\n",
              "      <th>19</th>\n",
              "      <td>MONTH_1</td>\n",
              "      <td>-3.161160</td>\n",
              "    </tr>\n",
              "    <tr>\n",
              "      <th>21</th>\n",
              "      <td>MONTH_11</td>\n",
              "      <td>-3.257609</td>\n",
              "    </tr>\n",
              "    <tr>\n",
              "      <th>41</th>\n",
              "      <td>DEP_TIME_BLK_0900-0959</td>\n",
              "      <td>-3.829588</td>\n",
              "    </tr>\n",
              "    <tr>\n",
              "      <th>22</th>\n",
              "      <td>MONTH_12</td>\n",
              "      <td>-4.178880</td>\n",
              "    </tr>\n",
              "    <tr>\n",
              "      <th>39</th>\n",
              "      <td>DEP_TIME_BLK_0700-0759</td>\n",
              "      <td>-4.608944</td>\n",
              "    </tr>\n",
              "    <tr>\n",
              "      <th>40</th>\n",
              "      <td>DEP_TIME_BLK_0800-0859</td>\n",
              "      <td>-5.323246</td>\n",
              "    </tr>\n",
              "    <tr>\n",
              "      <th>38</th>\n",
              "      <td>DEP_TIME_BLK_0600-0659</td>\n",
              "      <td>-6.229023</td>\n",
              "    </tr>\n",
              "    <tr>\n",
              "      <th>17</th>\n",
              "      <td>WT05</td>\n",
              "      <td>-9.632178</td>\n",
              "    </tr>\n",
              "  </tbody>\n",
              "</table>\n",
              "</div>"
            ],
            "text/plain": [
              "                   feature      coef\n",
              "10                    TMIN -0.024056\n",
              "3           FLIGHT_BLK_NUM -0.064203\n",
              "31           DAY_OF_WEEK_0 -0.196270\n",
              "9                     TMAX -0.240693\n",
              "45  DEP_TIME_BLK_1300-1359 -0.609789\n",
              "32           DAY_OF_WEEK_1 -0.654097\n",
              "37           DAY_OF_WEEK_6 -0.708070\n",
              "4                     AWND -0.756959\n",
              "36           DAY_OF_WEEK_5 -0.758537\n",
              "33           DAY_OF_WEEK_2 -0.893547\n",
              "20                MONTH_10 -1.034793\n",
              "25                 MONTH_4 -1.400946\n",
              "44  DEP_TIME_BLK_1200-1259 -1.805592\n",
              "23                 MONTH_2 -1.912137\n",
              "24                 MONTH_3 -2.207379\n",
              "43  DEP_TIME_BLK_1100-1159 -2.293660\n",
              "42  DEP_TIME_BLK_1000-1059 -3.125423\n",
              "19                 MONTH_1 -3.161160\n",
              "21                MONTH_11 -3.257609\n",
              "41  DEP_TIME_BLK_0900-0959 -3.829588\n",
              "22                MONTH_12 -4.178880\n",
              "39  DEP_TIME_BLK_0700-0759 -4.608944\n",
              "40  DEP_TIME_BLK_0800-0859 -5.323246\n",
              "38  DEP_TIME_BLK_0600-0659 -6.229023\n",
              "17                    WT05 -9.632178"
            ]
          },
          "metadata": {},
          "execution_count": 126
        }
      ],
      "metadata": {}
    },
    {
      "cell_type": "code",
      "execution_count": 116,
      "source": [
        "# Performance on testing data\r\n",
        "features = X_train_atl_xgboost.columns\r\n",
        "features = features[~features.isin(['MONTH_8', 'MONTH_9'])]\r\n",
        "\r\n",
        "X_test_atl_xgboost = pd.concat(\r\n",
        "    [X_test_atl[features], \r\n",
        "    pd.DataFrame({\r\n",
        "        'MONTH_8': [0] * X_test_atl.shape[0],\r\n",
        "        'MONTH_9': [0] * X_test_atl.shape[0]\r\n",
        "    })],\r\n",
        "    axis=1\r\n",
        ")\r\n",
        "\r\n",
        "score = cross_val_score(best_model, X_test_atl_xgboost, y_test_atl, cv=cv, scoring='neg_mean_squared_error').mean()\r\n",
        "round(-score, 2)"
      ],
      "outputs": [
        {
          "output_type": "execute_result",
          "data": {
            "text/plain": [
              "294.23"
            ]
          },
          "metadata": {},
          "execution_count": 116
        }
      ],
      "metadata": {}
    },
    {
      "cell_type": "code",
      "execution_count": 113,
      "source": [
        "# Learning Curve\r\n",
        "from sklearn.model_selection import learning_curve\r\n",
        "def plot_learning_curve(estimator, title, X, y, ylim=None, ylab=\"F1-score\", scorer=\"f1_macro\",\r\n",
        "                        cv=None, n_jobs=-1, train_sizes=np.linspace(0.1, 1.0, 10)):\r\n",
        "\r\n",
        "    plt.figure()\r\n",
        "    plt.title(title)\r\n",
        "    if ylim is not None:\r\n",
        "        plt.ylim(*ylim)\r\n",
        "    plt.xlabel(\"Training examples\")\r\n",
        "    plt.ylabel(ylab)\r\n",
        "\r\n",
        "    train_sizes, train_scores, test_scores = learning_curve(\r\n",
        "        estimator, X, y, cv=cv, n_jobs=n_jobs, scoring=scorer, train_sizes=train_sizes)\r\n",
        "    \r\n",
        "    train_scores_mean = np.mean(-train_scores, axis=1)\r\n",
        "    train_scores_std = np.std(-train_scores, axis=1)\r\n",
        "    test_scores_mean = np.mean(-test_scores, axis=1)\r\n",
        "    test_scores_std = np.std(-test_scores, axis=1)\r\n",
        "\r\n",
        "    plt.grid()\r\n",
        "\r\n",
        "    #plt.fill_between(train_sizes, train_scores_mean - train_scores_std,\r\n",
        "    #                 train_scores_mean + train_scores_std, alpha=0.1, color=\"r\")\r\n",
        "    #plt.fill_between(train_sizes, test_scores_mean - test_scores_std,\r\n",
        "    #                 test_scores_mean + test_scores_std, alpha=0.1, color=\"g\") \r\n",
        "    \r\n",
        "    plt.plot(train_sizes, train_scores_mean, 'o-', color=\"r\", label=\"Training score\")\r\n",
        "    plt.plot(train_sizes, test_scores_mean, 'o-', color=\"g\", label=\"Cross-validation score\")\r\n",
        "    \r\n",
        "    plt.grid()\r\n",
        "    plt.legend(loc=\"best\")\r\n",
        "    return plt"
      ],
      "outputs": [],
      "metadata": {}
    },
    {
      "cell_type": "code",
      "execution_count": 114,
      "source": [
        "title = 'Learning Curve (xgboost)'\r\n",
        "plot_learning_curve(best_model, title, X_train_atl_xgboost, y_train_atl, cv=cv, n_jobs=-1, scorer=\"neg_mean_squared_error\", ylab='MSE');"
      ],
      "outputs": [
        {
          "output_type": "display_data",
          "data": {
            "image/png": "[encoded data removed]",
            "text/plain": [
              "<Figure size 432x288 with 1 Axes>"
            ]
          },
          "metadata": {}
        }
      ],
      "metadata": {}
    },
    {
      "cell_type": "code",
      "execution_count": 127,
      "source": [
        "title = 'Learning Curve (ridge)'\r\n",
        "plot_learning_curve(best_model_linear, title, X_train_atl, y_train_atl, cv=cv, n_jobs=-1, scorer=\"neg_mean_squared_error\", ylab='MSE');"
      ],
      "outputs": [
        {
          "output_type": "display_data",
          "data": {
            "image/png": "[encoded data removed]",
            "text/plain": [
              "<Figure size 432x288 with 1 Axes>"
            ]
          },
          "metadata": {}
        }
      ],
      "metadata": {}
    }
  ]
}