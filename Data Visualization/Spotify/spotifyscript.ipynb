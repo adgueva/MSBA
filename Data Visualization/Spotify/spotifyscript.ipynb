{
 "cells": [
  {
   "cell_type": "code",
   "execution_count": 84,
   "metadata": {},
   "outputs": [],
   "source": [
    "import pandas as pd\n",
    "import urllib.request"
   ]
  },
  {
   "cell_type": "code",
   "execution_count": 85,
   "metadata": {},
   "outputs": [],
   "source": [
    "# SpotiPy and Spotify API\n",
    "\n",
    "import spotipy\n",
    "import spotipy.util as util\n",
    "from spotipy.oauth2 import SpotifyClientCredentials\n",
    "import spotipy.oauth2 as oauth2\n",
    "\n",
    "CLIENT_ID = \"###############\"\n",
    "CLIENT_SECRET = \"##################\"\n",
    "\n",
    "spotify = spotipy.Spotify(client_credentials_manager=SpotifyClientCredentials(client_id=CLIENT_ID,client_secret=CLIENT_SECRET))"
   ]
  },
  {
   "cell_type": "code",
   "execution_count": 86,
   "metadata": {},
   "outputs": [],
   "source": [
    "# prepare the data\n",
    "spotify_songs = pd.read_excel(\"spotify.xlsx\", sheet_name=\"all\")\n",
    "spotify_songs[\"title\"] = spotify_songs[\"title\"].astype(str)\n",
    "spotify_songs_sorted = spotify_songs.sort_values(\"title\", key=lambda col: col.str.lower()).reset_index()\n",
    "spotify_songs_artist_sorted = spotify_songs.sort_values(\"artist\", key=lambda col: col.str.lower()).reset_index()"
   ]
  },
  {
   "cell_type": "code",
   "execution_count": null,
   "metadata": {},
   "outputs": [],
   "source": [
    "# test\n",
    "track = \"death bed (coffee for your head)\"\n",
    "artist = \"Powfu\"\n",
    "res = spotify.search(q='artist:' + artist + ' track:' + track, type='track', limit=1)"
   ]
  },
  {
   "cell_type": "code",
   "execution_count": null,
   "metadata": {},
   "outputs": [],
   "source": [
    "# song pics\n",
    "title_length = len(spotify_songs['title'])\n",
    "sequence = [\"%.3d\" % i for i in range(title_length)]\n",
    "\n",
    "for i in range(title_length):\n",
    "    track = spotify_songs['title'][i]\n",
    "    artist = spotify_songs['artist'][i]\n",
    "    res = spotify.search(q='artist:' + artist + ' track:' + track, type='track', limit=1)\n",
    "    album_image_url = res['tracks']['items'][0]['album']['images'][0]['url']\n",
    "    file_location = \"./album-covers/\" + sequence[i] + \".png\"\n",
    "    urllib.request.urlretrieve(album_image_url, file_location)"
   ]
  },
  {
   "cell_type": "code",
   "execution_count": null,
   "metadata": {},
   "outputs": [],
   "source": [
    "# lyrics\n",
    "\n",
    "import numpy as np\n",
    "import lyricsgenius\n",
    "from requests.exceptions import Timeout\n",
    "\n",
    "title_length = len(spotify_songs['title'])\n",
    "lyrics = []\n",
    "\n",
    "genius = lyricsgenius.Genius(\"#################################\")\n",
    "for i in range(title_length):\n",
    "    track = spotify_songs['title'][i]\n",
    "    artist = spotify_songs['artist'][i]\n",
    "    retries = 0\n",
    "    while retries < 3:\n",
    "        try:\n",
    "            song = genius.search_song(track, artist)\n",
    "        except Timeout as e:\n",
    "            retries += 1\n",
    "            continue\n",
    "        if song is not None:\n",
    "            lyrics.append(song.lyrics)\n",
    "        else:\n",
    "            lyrics.append(np.NAN)\n",
    "        break"
   ]
  },
  {
   "cell_type": "code",
   "execution_count": 101,
   "metadata": {},
   "outputs": [],
   "source": [
    "# artist pics\n",
    "\n",
    "unique_artists = spotify_songs_artist_sorted['artist'].drop_duplicates().reset_index()\n",
    "\n",
    "artist_names = []\n",
    "artist_image_urls = []\n",
    "artist_followers = []\n",
    "artist_popularitys = []\n",
    "\n",
    "for i in range(len(unique_artists)):\n",
    "    artist = unique_artists['artist'][i]\n",
    "    res = spotify.search(q='artist:' + artist, type='artist', limit=1)\n",
    "    artist_image_url = res['artists']['items'][0]['images'][0]['url']\n",
    "    artist_follower = res['artists']['items'][0]['followers']['total']\n",
    "    artist_popularity = res['artists']['items'][0]['popularity']\n",
    "    artist_names.append(artist)\n",
    "    artist_image_urls.append(artist_image_url)\n",
    "    artist_followers.append(artist_follower)\n",
    "    artist_popularitys.append(artist_popularity)"
   ]
  },
  {
   "cell_type": "code",
   "execution_count": 107,
   "metadata": {},
   "outputs": [],
   "source": [
    "# artisit info\n",
    "\n",
    "artist_info = pd.DataFrame({'artist_names':artist_names, 'artist_followers':artist_followers,\n",
    " 'artist_popularitys':artist_popularitys, \"artist_image_urls\":artist_image_urls})"
   ]
  },
  {
   "cell_type": "code",
   "execution_count": null,
   "metadata": {},
   "outputs": [],
   "source": [
    "# downloader\n",
    "\n",
    "import urllib.request\n",
    "length_artist = len(artist_info['artist_image_urls'])\n",
    "for i in range(length_artist):\n",
    "    sequence = [\"%.3d\" % i for i in range(length_artist)]\n",
    "    image_url = artist_info['artist_image_urls'][i]\n",
    "    file_location = \"./artist-pics/\" + sequence[i] + \".png\"\n",
    "    urllib.request.urlretrieve(image_url, file_location)"
   ]
  },
  {
   "cell_type": "code",
   "execution_count": 112,
   "metadata": {},
   "outputs": [],
   "source": [
    "# crop the artist pic to round\n",
    "\n",
    "from PIL import Image, ImageChops, ImageDraw\n",
    "length_artist = len(artist_info['artist_image_urls'])\n",
    "sequence = [\"%.3d\" % i for i in range(length_artist)]\n",
    "for i in range(length_artist):\n",
    "    file_location = \"./artist-pics/\" + sequence[i] + \".png\"\n",
    "    im = Image.open(file_location)\n",
    "\n",
    "    im = im.resize((200,200), Image.ANTIALIAS)\n",
    "    bigsize = (im.size[0] * 3, im.size[1] * 3)\n",
    "    mask = Image.new('L', bigsize, 0)\n",
    "    draw = ImageDraw.Draw(mask)\n",
    "    draw.ellipse((0, 0) + bigsize, fill=255)\n",
    "    mask = mask.resize(im.size, Image.ANTIALIAS)\n",
    "    im.putalpha(mask)\n",
    "\n",
    "    im.save(file_location)"
   ]
  }
 ],
 "metadata": {
  "interpreter": {
   "hash": "fbff9bfab3ee0df4124016b4e010029cf2ec5864ce5e3c4aa09796cc364af95f"
  },
  "kernelspec": {
   "display_name": "Python 3.9.5 64-bit ('base': conda)",
   "name": "python3"
  },
  "language_info": {
   "codemirror_mode": {
    "name": "ipython",
    "version": 3
   },
   "file_extension": ".py",
   "mimetype": "text/x-python",
   "name": "python",
   "nbconvert_exporter": "python",
   "pygments_lexer": "ipython3",
   "version": "3.9.5"
  },
  "orig_nbformat": 4
 },
 "nbformat": 4,
 "nbformat_minor": 2
}
